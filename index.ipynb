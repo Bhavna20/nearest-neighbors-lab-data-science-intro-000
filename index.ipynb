{
 "cells": [
  {
   "cell_type": "markdown",
   "metadata": {},
   "source": [
    "# Nearest Neighbors Lab"
   ]
  },
  {
   "cell_type": "markdown",
   "metadata": {},
   "source": [
    "### Introduction\n",
    "\n",
    "In this lab, you apply nearest neighbors technique to help a taxi company predict the length of their rides.  Imagine that we are hired to consult for LiftOff, a limo and taxi service that is just opening up in NYC.  Liftoff wants it's taxi drivers to target longer rides, as the longer the ride the more money it makes.  LiftOff has the following theory:\n",
    "\n",
    "* the pickup location of a taxi ride can help predict the length of the ride.  \n",
    "\n",
    "\n",
    "\n",
    "LiftOff asks us to do some analysis to write a function that will allow it to **predict the length of a taxi ride for any given location **.\n",
    "\n",
    "Our technique will be the following:\n",
    "  * **Collect** Obtain the data containing all of the taxi information, and only select the attributes of taxi trips that we need \n",
    "  * ** Explore ** Examine the attributes of our data, and plot some of our data on a map\n",
    "  * ** Train ** Write our nearest neighbors formula, and change the number of nearby trips to predict the length of a new trip\n",
    "  * ** Predict ** Use our function to predict trip lengths of new locations"
   ]
  },
  {
   "cell_type": "markdown",
   "metadata": {},
   "source": [
    "### Collect and Explore the data"
   ]
  },
  {
   "cell_type": "markdown",
   "metadata": {},
   "source": [
    "#### Collect the Data"
   ]
  },
  {
   "cell_type": "markdown",
   "metadata": {},
   "source": [
    "Luckily for us, [NYC Open Data](https://opendata.cityofnewyork.us/) collects information about NYC taxi trips and provides this data on [its website](https://data.cityofnewyork.us/Transportation/2014-Yellow-Taxi-Trip-Data/gn7m-em8n)."
   ]
  },
  {
   "cell_type": "markdown",
   "metadata": {},
   "source": [
    "![](./nyc-taxi.png)"
   ]
  },
  {
   "cell_type": "markdown",
   "metadata": {},
   "source": [
    "For your reading pleasure, the data has already been downloaded into the [trips.json](https://github.com/learn-co-curriculum/nearest-neighbors-lab/blob/master/trips.json) file in this lab which you can find here.  We'll use Python's `json` library to take the data from the `trips.json` file and store it as a variable in our notebook."
   ]
  },
  {
   "cell_type": "code",
   "execution_count": 5,
   "metadata": {},
   "outputs": [],
   "source": [
    "import json\n",
    "# First, read the file\n",
    "trips_file = open('trips.json')\n",
    "# Then, convert contents to list of dictionaries \n",
    "trips = json.load(trips_file)"
   ]
  },
  {
   "cell_type": "markdown",
   "metadata": {},
   "source": [
    "> Press shift + enter"
   ]
  },
  {
   "cell_type": "markdown",
   "metadata": {},
   "source": [
    "#### Explore the data"
   ]
  },
  {
   "cell_type": "markdown",
   "metadata": {},
   "source": [
    "The next step is to explore the data.  First, let's see how many trips we have."
   ]
  },
  {
   "cell_type": "code",
   "execution_count": 2,
   "metadata": {},
   "outputs": [
    {
     "data": {
      "text/plain": [
       "1000"
      ]
     },
     "execution_count": 2,
     "metadata": {},
     "output_type": "execute_result"
    }
   ],
   "source": [
    "len(trips)"
   ]
  },
  {
   "cell_type": "markdown",
   "metadata": {},
   "source": [
    "Not bad at all.  Now let's see what each individual trip looks like.  Each trip is a dictionary, so we can see the attributes of each trip with the `keys` function."
   ]
  },
  {
   "cell_type": "code",
   "execution_count": 3,
   "metadata": {
    "scrolled": true
   },
   "outputs": [
    {
     "data": {
      "text/plain": [
       "dict_keys(['dropoff_datetime', 'dropoff_latitude', 'dropoff_longitude', 'fare_amount', 'imp_surcharge', 'mta_tax', 'passenger_count', 'payment_type', 'pickup_datetime', 'pickup_latitude', 'pickup_longitude', 'rate_code', 'tip_amount', 'tolls_amount', 'total_amount', 'trip_distance', 'vendor_id'])"
      ]
     },
     "execution_count": 3,
     "metadata": {},
     "output_type": "execute_result"
    }
   ],
   "source": [
    "trips[0].keys()"
   ]
  },
  {
   "cell_type": "markdown",
   "metadata": {},
   "source": [
    "#### Limit our data"
   ]
  },
  {
   "cell_type": "markdown",
   "metadata": {},
   "source": [
    "Ok, now that we have explored some of our data, let's begin to think through what data is relevant for our task."
   ]
  },
  {
   "cell_type": "markdown",
   "metadata": {
    "collapsed": true
   },
   "source": [
    "Remember that our task is to **use the trip location to predict the length of a trip**.  So let's select the `pickup_latitude`, `pickup_longitude`, and `trip_distance` from each trip.  That will give us the trip location and related `trip_distance` for each trip.  Then based on these **actual** trip distances we can use nearest neighbors to predict an **expected** trip distance for a trip, provided an **actual** location."
   ]
  },
  {
   "cell_type": "markdown",
   "metadata": {},
   "source": [
    "** Add in about trip distance ** "
   ]
  },
  {
   "cell_type": "markdown",
   "metadata": {},
   "source": [
    "Write a function called `parse_trips(trips)` that returns a list of the trips with only the following attributes: \n",
    "* `trip_distance`\n",
    "* `pickup_latitude`\n",
    "* `pickup_longitude`"
   ]
  },
  {
   "cell_type": "code",
   "execution_count": 43,
   "metadata": {},
   "outputs": [],
   "source": [
    "def parse_trips(trips):\n",
    "    return list(map(lambda trip: {'trip_distance': trip['trip_distance'], 'pickup_latitude': trip['pickup_latitude'], 'pickup_longitude': trip['pickup_longitude']},trips))"
   ]
  },
  {
   "cell_type": "code",
   "execution_count": 44,
   "metadata": {},
   "outputs": [
    {
     "data": {
      "text/plain": [
       "{'trip_distance': '18.379999999999999',\n",
       " 'pickup_latitude': '40.64499',\n",
       " 'pickup_longitude': '-73.781149999999997'}"
      ]
     },
     "execution_count": 44,
     "metadata": {},
     "output_type": "execute_result"
    }
   ],
   "source": [
    "parsed_trips = parse_trips(trips)\n",
    "parsed_trips and parsed_trips[0]\n",
    "\n",
    "# {'pickup_latitude': '40.64499',\n",
    "#  'pickup_longitude': '-73.78115',\n",
    "#  'trip_distance': '18.38'}"
   ]
  },
  {
   "cell_type": "markdown",
   "metadata": {},
   "source": [
    "Now, there's just one change to make.  If you look at one of the trips, all of the values are strings.  Let's change them to be floats."
   ]
  },
  {
   "cell_type": "code",
   "execution_count": 45,
   "metadata": {},
   "outputs": [],
   "source": [
    "def float_values(trips):    \n",
    "    return trips and list(map(lambda trip: {'trip_distance': float(trip['trip_distance']), 'pickup_latitude': float(trip['pickup_latitude']), 'pickup_longitude': float(trip['pickup_longitude'])},trips))"
   ]
  },
  {
   "cell_type": "code",
   "execution_count": 46,
   "metadata": {},
   "outputs": [],
   "source": [
    "cleaned_trips = float_values(parsed_trips)"
   ]
  },
  {
   "cell_type": "code",
   "execution_count": 47,
   "metadata": {},
   "outputs": [
    {
     "data": {
      "text/plain": [
       "{'trip_distance': 18.38,\n",
       " 'pickup_latitude': 40.64499,\n",
       " 'pickup_longitude': -73.78115}"
      ]
     },
     "execution_count": 47,
     "metadata": {},
     "output_type": "execute_result"
    }
   ],
   "source": [
    "cleaned_trips[0]\n",
    "\n",
    "# {'pickup_latitude': 40.64499,\n",
    "#  'pickup_longitude': -73.78115,\n",
    "#  'trip_distance': 18.38}"
   ]
  },
  {
   "cell_type": "markdown",
   "metadata": {},
   "source": [
    "### Exploring the Data"
   ]
  },
  {
   "cell_type": "markdown",
   "metadata": {},
   "source": [
    "Now that we have paired down our data, let's get a sense of our trip data.  We can use the `folium` Python library to plot a map of Manhattan, and our data.  First we must import `folium`, and then use the `Map` function to pass through a `location`, and `zoom_start`.  If a map isn't showing up below, copy and paste the command `pip install -r requirements.txt` into your terminal to install `folium` then try again."
   ]
  },
  {
   "cell_type": "code",
   "execution_count": 21,
   "metadata": {},
   "outputs": [],
   "source": [
    "import folium\n",
    "manhattan_map = folium.Map(location=[40.7589, -73.9851], zoom_start=11)"
   ]
  },
  {
   "cell_type": "code",
   "execution_count": 22,
   "metadata": {
    "scrolled": true
   },
   "outputs": [
    {
     "data": {
      "text/html": [
       "<div style=\"width:100%;\"><div style=\"position:relative;width:100%;height:0;padding-bottom:60%;\"><iframe src=\"data:text/html;charset=utf-8;base64,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\" style=\"position:absolute;width:100%;height:100%;left:0;top:0;border:none !important;\" allowfullscreen webkitallowfullscreen mozallowfullscreen></iframe></div></div>"
      ],
      "text/plain": [
       "<folium.folium.Map at 0x7f9e27eb5898>"
      ]
     },
     "execution_count": 22,
     "metadata": {},
     "output_type": "execute_result"
    }
   ],
   "source": [
    "manhattan_map"
   ]
  },
  {
   "cell_type": "markdown",
   "metadata": {},
   "source": [
    "Ok, now let's see how we could add a dot to mark a specific location.  We'll start with Times Square."
   ]
  },
  {
   "cell_type": "code",
   "execution_count": 24,
   "metadata": {},
   "outputs": [
    {
     "data": {
      "text/plain": [
       "<folium.vector_layers.CircleMarker at 0x7f9df639f630>"
      ]
     },
     "execution_count": 24,
     "metadata": {},
     "output_type": "execute_result"
    }
   ],
   "source": [
    "marker = folium.CircleMarker(location = [40.7589, -73.9851], radius=10)\n",
    "marker.add_to(manhattan_map)"
   ]
  },
  {
   "cell_type": "markdown",
   "metadata": {},
   "source": [
    "Above, we first create a marker.  Then we add that circle marker to the `manhattan_map` we created earlier. "
   ]
  },
  {
   "cell_type": "code",
   "execution_count": 25,
   "metadata": {
    "scrolled": false
   },
   "outputs": [
    {
     "data": {
      "text/html": [
       "<div style=\"width:100%;\"><div style=\"position:relative;width:100%;height:0;padding-bottom:60%;\"><iframe src=\"data:text/html;charset=utf-8;base64,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\" style=\"position:absolute;width:100%;height:100%;left:0;top:0;border:none !important;\" allowfullscreen webkitallowfullscreen mozallowfullscreen></iframe></div></div>"
      ],
      "text/plain": [
       "<folium.folium.Map at 0x7f9e27eb5898>"
      ]
     },
     "execution_count": 25,
     "metadata": {},
     "output_type": "execute_result"
    }
   ],
   "source": [
    "manhattan_map"
   ]
  },
  {
   "cell_type": "markdown",
   "metadata": {},
   "source": [
    "Do you see that blue dot near Time's Square?  That is our marker.  \n",
    "\n",
    "So now that we can plot one marker on a map, we should have a sense of how we can plot many markers on a map to display our taxi ride data.  We simply plot a map, and then we add a marker for each location of a taxi trip.\n",
    "\n",
    "Now let's write some functions to allow us to plot maps and add markers a little more easily.  "
   ]
  },
  {
   "cell_type": "markdown",
   "metadata": {},
   "source": [
    "#### Writing some map plotting functions"
   ]
  },
  {
   "cell_type": "markdown",
   "metadata": {},
   "source": [
    "As a first step towards this, note that the functions to create both a marker and map each take in a location as two element list, representing the latitude and longitude values.  Take another look:\n",
    "\n",
    "```python\n",
    "marker = folium.CircleMarker(location = [40.7589, -73.9851])\n",
    "manhattan_map = folium.Map(location=[40.7589, -73.9851])\n",
    "```\n",
    "\n",
    "So let's write a function called to create this two element list from a trip.  Write a function called `location` that  takes in a trip as an argument and returns a list where the first element is the latitude and the second is the longitude.  Remember that a location looks like the following:"
   ]
  },
  {
   "cell_type": "code",
   "execution_count": 26,
   "metadata": {},
   "outputs": [
    {
     "data": {
      "text/plain": [
       "{'pickup_latitude': 40.64499,\n",
       " 'pickup_longitude': -73.78115,\n",
       " 'trip_distance': 18.38}"
      ]
     },
     "execution_count": 26,
     "metadata": {},
     "output_type": "execute_result"
    }
   ],
   "source": [
    "first_trip = {'pickup_latitude': 40.64499, 'pickup_longitude': -73.78115,  'trip_distance': 18.38}\n",
    "first_trip"
   ]
  },
  {
   "cell_type": "code",
   "execution_count": 29,
   "metadata": {},
   "outputs": [],
   "source": [
    "def location(trip):\n",
    "    return (trip['pickup_latitude'], trip['pickup_longitude'])"
   ]
  },
  {
   "cell_type": "code",
   "execution_count": 30,
   "metadata": {},
   "outputs": [
    {
     "data": {
      "text/plain": [
       "(40.64499, -73.78115)"
      ]
     },
     "execution_count": 30,
     "metadata": {},
     "output_type": "execute_result"
    }
   ],
   "source": [
    "first_location = location(first_trip) # [40.64499, -73.78115]\n",
    "first_location # [40.64499, -73.78115]"
   ]
  },
  {
   "cell_type": "markdown",
   "metadata": {},
   "source": [
    "Ok, now that we can turn a trip into a location, let's turn a location into a marker.  Write a function called `to_marker` that takes in a location (in the form of a list) as an argument, and returns a folium `circleMarker` for that location.  The radius of the marker should always equal 6."
   ]
  },
  {
   "cell_type": "code",
   "execution_count": 32,
   "metadata": {},
   "outputs": [],
   "source": [
    "def to_marker(location):\n",
    "    return(folium.CircleMarker([location[0],location[1]], radius=6))"
   ]
  },
  {
   "cell_type": "code",
   "execution_count": 33,
   "metadata": {},
   "outputs": [
    {
     "data": {
      "text/plain": [
       "6"
      ]
     },
     "execution_count": 33,
     "metadata": {},
     "output_type": "execute_result"
    }
   ],
   "source": [
    "import json\n",
    "times_square_marker = to_marker([40.7589, -73.9851])\n",
    "\n",
    "times_square_marker and times_square_marker.location # [40.7589, -73.9851]\n",
    "times_square_marker and json.loads(times_square_marker.options)['radius'] # 6"
   ]
  },
  {
   "cell_type": "markdown",
   "metadata": {},
   "source": [
    "Ok, now that we know how to produce a single marker, let's write a function to produce lots.  We can write a function called `markers_from_trips` that takes in a list of trips, and returns a marker object for each trip.  "
   ]
  },
  {
   "cell_type": "code",
   "execution_count": 54,
   "metadata": {},
   "outputs": [],
   "source": [
    "def markers_from_trips(trips):\n",
    "    locations=list(map(lambda trip: location(trip), trips))\n",
    "    return list(map(lambda locations: to_marker(locations), locations))"
   ]
  },
  {
   "cell_type": "code",
   "execution_count": 55,
   "metadata": {},
   "outputs": [],
   "source": [
    "trip_markers = markers_from_trips(cleaned_trips)"
   ]
  },
  {
   "cell_type": "code",
   "execution_count": 56,
   "metadata": {},
   "outputs": [
    {
     "data": {
      "text/plain": [
       "[{'trip_distance': 18.38,\n",
       "  'pickup_latitude': 40.64499,\n",
       "  'pickup_longitude': -73.78115},\n",
       " {'trip_distance': 1.3,\n",
       "  'pickup_latitude': 40.766931,\n",
       "  'pickup_longitude': -73.982098},\n",
       " {'trip_distance': 4.5,\n",
       "  'pickup_latitude': 40.77773,\n",
       "  'pickup_longitude': -73.951902},\n",
       " {'trip_distance': 2.4,\n",
       "  'pickup_latitude': 40.795678,\n",
       "  'pickup_longitude': -73.971049}]"
      ]
     },
     "execution_count": 56,
     "metadata": {},
     "output_type": "execute_result"
    }
   ],
   "source": [
    "cleaned_trips[0:4]"
   ]
  },
  {
   "cell_type": "code",
   "execution_count": 57,
   "metadata": {},
   "outputs": [
    {
     "data": {
      "text/plain": [
       "[[40.64499, -73.78115],\n",
       " [40.766931, -73.982098],\n",
       " [40.77773, -73.951902],\n",
       " [40.795678, -73.971049]]"
      ]
     },
     "execution_count": 57,
     "metadata": {},
     "output_type": "execute_result"
    }
   ],
   "source": [
    "trip_markers and len(trip_markers) # 1000\n",
    "\n",
    "list(map(lambda marker: marker.location, trip_markers[0:4]))\n",
    "# [[40.64499, -73.78115],\n",
    "#  [40.766931, -73.982098],\n",
    "#  [40.77773, -73.951902],\n",
    "#  [40.795678, -73.971049]]"
   ]
  },
  {
   "cell_type": "markdown",
   "metadata": {},
   "source": [
    "Ok, now that we have a function that creates locations, and a function that creates markers, it is time to write a function to plot a map. \n",
    "\n",
    "Write a function called `map_from` that, provided the first argument of a list location and second argument an integer representing the `zoom_start`, returns a `folium` map the corresponding location and `zoom_start` attributes.\n",
    "\n",
    "> Hint: The following is how to write a map with folium:\n",
    "> ```python \n",
    "    folium.Map(location=location, zoom_start=zoom_amount)\n",
    "> ```"
   ]
  },
  {
   "cell_type": "code",
   "execution_count": 58,
   "metadata": {},
   "outputs": [],
   "source": [
    "def map_from(location, zoom_amount):\n",
    "    return folium.Map(location=location, zoom_start=zoom_amount)"
   ]
  },
  {
   "cell_type": "code",
   "execution_count": 59,
   "metadata": {},
   "outputs": [
    {
     "data": {
      "text/plain": [
       "15"
      ]
     },
     "execution_count": 59,
     "metadata": {},
     "output_type": "execute_result"
    }
   ],
   "source": [
    "times_square_map = map_from([40.7589, -73.9851], 15)\n",
    "times_square_map and times_square_map.location # [40.7589, -73.9851]\n",
    "times_square_map and times_square_map.zoom_start # 15"
   ]
  },
  {
   "cell_type": "code",
   "execution_count": 60,
   "metadata": {
    "scrolled": true
   },
   "outputs": [
    {
     "data": {
      "text/html": [
       "<div style=\"width:100%;\"><div style=\"position:relative;width:100%;height:0;padding-bottom:60%;\"><iframe src=\"data:text/html;charset=utf-8;base64,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\" style=\"position:absolute;width:100%;height:100%;left:0;top:0;border:none !important;\" allowfullscreen webkitallowfullscreen mozallowfullscreen></iframe></div></div>"
      ],
      "text/plain": [
       "<folium.folium.Map at 0x7f9df634f080>"
      ]
     },
     "execution_count": 60,
     "metadata": {},
     "output_type": "execute_result"
    }
   ],
   "source": [
    "times_square_marker and times_square_marker.add_to(times_square_map)\n",
    "times_square_map"
   ]
  },
  {
   "cell_type": "markdown",
   "metadata": {},
   "source": [
    "Now that we have a marker and a map, now let's write a function that adds a lot of markers to a map.  This function should add each marker in the list to the map object then return the updated map object."
   ]
  },
  {
   "cell_type": "code",
   "execution_count": 61,
   "metadata": {},
   "outputs": [],
   "source": [
    "manhattan_map = map_from([40.7589, -73.9851], 13)"
   ]
  },
  {
   "cell_type": "code",
   "execution_count": 72,
   "metadata": {},
   "outputs": [],
   "source": [
    "def add_markers(markers, map_obj):\n",
    "     return(list(map(lambda markers: markers.add_to(map_obj), markers)))"
   ]
  },
  {
   "cell_type": "code",
   "execution_count": 73,
   "metadata": {
    "scrolled": false
   },
   "outputs": [],
   "source": [
    "map_with_markers = add_markers(trip_markers, manhattan_map)"
   ]
  },
  {
   "cell_type": "code",
   "execution_count": 74,
   "metadata": {},
   "outputs": [
    {
     "data": {
      "text/plain": [
       "[<folium.vector_layers.CircleMarker at 0x7f9df62ad7b8>,\n",
       " <folium.vector_layers.CircleMarker at 0x7f9df62adac8>,\n",
       " <folium.vector_layers.CircleMarker at 0x7f9df62adcf8>,\n",
       " <folium.vector_layers.CircleMarker at 0x7f9df62adba8>,\n",
       " <folium.vector_layers.CircleMarker at 0x7f9df62ad8d0>,\n",
       " <folium.vector_layers.CircleMarker at 0x7f9df62addd8>,\n",
       " <folium.vector_layers.CircleMarker at 0x7f9df62ade80>,\n",
       " <folium.vector_layers.CircleMarker at 0x7f9df62adf28>,\n",
       " <folium.vector_layers.CircleMarker at 0x7f9df62adfd0>,\n",
       " <folium.vector_layers.CircleMarker at 0x7f9df62adeb8>,\n",
       " <folium.vector_layers.CircleMarker at 0x7f9df6241128>,\n",
       " <folium.vector_layers.CircleMarker at 0x7f9df6241208>,\n",
       " <folium.vector_layers.CircleMarker at 0x7f9df62add30>,\n",
       " <folium.vector_layers.CircleMarker at 0x7f9df62adef0>,\n",
       " <folium.vector_layers.CircleMarker at 0x7f9df6372c50>,\n",
       " <folium.vector_layers.CircleMarker at 0x7f9df63814a8>,\n",
       " <folium.vector_layers.CircleMarker at 0x7f9df62adf98>,\n",
       " <folium.vector_layers.CircleMarker at 0x7f9df62adb38>,\n",
       " <folium.vector_layers.CircleMarker at 0x7f9df62adc88>,\n",
       " <folium.vector_layers.CircleMarker at 0x7f9df63abf60>,\n",
       " <folium.vector_layers.CircleMarker at 0x7f9df63ab048>,\n",
       " <folium.vector_layers.CircleMarker at 0x7f9df63ab860>,\n",
       " <folium.vector_layers.CircleMarker at 0x7f9df63abdd8>,\n",
       " <folium.vector_layers.CircleMarker at 0x7f9df63ab278>,\n",
       " <folium.vector_layers.CircleMarker at 0x7f9df6241048>,\n",
       " <folium.vector_layers.CircleMarker at 0x7f9df62412e8>,\n",
       " <folium.vector_layers.CircleMarker at 0x7f9df6241390>,\n",
       " <folium.vector_layers.CircleMarker at 0x7f9df6241080>,\n",
       " <folium.vector_layers.CircleMarker at 0x7f9df6241470>,\n",
       " <folium.vector_layers.CircleMarker at 0x7f9df6241518>,\n",
       " <folium.vector_layers.CircleMarker at 0x7f9df62415c0>,\n",
       " <folium.vector_layers.CircleMarker at 0x7f9df6241668>,\n",
       " <folium.vector_layers.CircleMarker at 0x7f9df6241710>,\n",
       " <folium.vector_layers.CircleMarker at 0x7f9df63abcc0>,\n",
       " <folium.vector_layers.CircleMarker at 0x7f9df6381860>,\n",
       " <folium.vector_layers.CircleMarker at 0x7f9e243e4518>,\n",
       " <folium.vector_layers.CircleMarker at 0x7f9df63ab630>,\n",
       " <folium.vector_layers.CircleMarker at 0x7f9df62ad7f0>,\n",
       " <folium.vector_layers.CircleMarker at 0x7f9df62adc50>,\n",
       " <folium.vector_layers.CircleMarker at 0x7f9df62adda0>,\n",
       " <folium.vector_layers.CircleMarker at 0x7f9df62adbe0>,\n",
       " <folium.vector_layers.CircleMarker at 0x7f9df62416d8>,\n",
       " <folium.vector_layers.CircleMarker at 0x7f9df6241588>,\n",
       " <folium.vector_layers.CircleMarker at 0x7f9df6241160>,\n",
       " <folium.vector_layers.CircleMarker at 0x7f9df6241240>,\n",
       " <folium.vector_layers.CircleMarker at 0x7f9df6241320>,\n",
       " <folium.vector_layers.CircleMarker at 0x7f9df62417f0>,\n",
       " <folium.vector_layers.CircleMarker at 0x7f9df6241898>,\n",
       " <folium.vector_layers.CircleMarker at 0x7f9df62411d0>,\n",
       " <folium.vector_layers.CircleMarker at 0x7f9df6241978>,\n",
       " <folium.vector_layers.CircleMarker at 0x7f9df6241a20>,\n",
       " <folium.vector_layers.CircleMarker at 0x7f9df6241ac8>,\n",
       " <folium.vector_layers.CircleMarker at 0x7f9df6241b70>,\n",
       " <folium.vector_layers.CircleMarker at 0x7f9df6241c18>,\n",
       " <folium.vector_layers.CircleMarker at 0x7f9df6241cc0>,\n",
       " <folium.vector_layers.CircleMarker at 0x7f9df62adc18>,\n",
       " <folium.vector_layers.CircleMarker at 0x7f9df62ad860>,\n",
       " <folium.vector_layers.CircleMarker at 0x7f9df63abb38>,\n",
       " <folium.vector_layers.CircleMarker at 0x7f9df63ab978>,\n",
       " <folium.vector_layers.CircleMarker at 0x7f9df63ab940>,\n",
       " <folium.vector_layers.CircleMarker at 0x7f9df6241be0>,\n",
       " <folium.vector_layers.CircleMarker at 0x7f9df6241a90>,\n",
       " <folium.vector_layers.CircleMarker at 0x7f9df62416a0>,\n",
       " <folium.vector_layers.CircleMarker at 0x7f9df6241748>,\n",
       " <folium.vector_layers.CircleMarker at 0x7f9df6241438>,\n",
       " <folium.vector_layers.CircleMarker at 0x7f9df6241358>,\n",
       " <folium.vector_layers.CircleMarker at 0x7f9df6241550>,\n",
       " <folium.vector_layers.CircleMarker at 0x7f9df6241630>,\n",
       " <folium.vector_layers.CircleMarker at 0x7f9df6241d68>,\n",
       " <folium.vector_layers.CircleMarker at 0x7f9df6241c50>,\n",
       " <folium.vector_layers.CircleMarker at 0x7f9df6241e80>,\n",
       " <folium.vector_layers.CircleMarker at 0x7f9df6241eb8>,\n",
       " <folium.vector_layers.CircleMarker at 0x7f9df6241f60>,\n",
       " <folium.vector_layers.CircleMarker at 0x7f9df6241ef0>,\n",
       " <folium.vector_layers.CircleMarker at 0x7f9df6259048>,\n",
       " <folium.vector_layers.CircleMarker at 0x7f9df6259128>,\n",
       " <folium.vector_layers.CircleMarker at 0x7f9df6259240>,\n",
       " <folium.vector_layers.CircleMarker at 0x7f9df6241b00>,\n",
       " <folium.vector_layers.CircleMarker at 0x7f9df6241f28>,\n",
       " <folium.vector_layers.CircleMarker at 0x7f9df62414e0>,\n",
       " <folium.vector_layers.CircleMarker at 0x7f9df6241ba8>,\n",
       " <folium.vector_layers.CircleMarker at 0x7f9df62410b8>,\n",
       " <folium.vector_layers.CircleMarker at 0x7f9df62413c8>,\n",
       " <folium.vector_layers.CircleMarker at 0x7f9df62419b0>,\n",
       " <folium.vector_layers.CircleMarker at 0x7f9df62419e8>,\n",
       " <folium.vector_layers.CircleMarker at 0x7f9df6241c88>,\n",
       " <folium.vector_layers.CircleMarker at 0x7f9df62412b0>,\n",
       " <folium.vector_layers.CircleMarker at 0x7f9df62ade48>,\n",
       " <folium.vector_layers.CircleMarker at 0x7f9df62adb00>,\n",
       " <folium.vector_layers.CircleMarker at 0x7f9df63aba58>,\n",
       " <folium.vector_layers.CircleMarker at 0x7f9df62590b8>,\n",
       " <folium.vector_layers.CircleMarker at 0x7f9df6259160>,\n",
       " <folium.vector_layers.CircleMarker at 0x7f9df6259400>,\n",
       " <folium.vector_layers.CircleMarker at 0x7f9df6259438>,\n",
       " <folium.vector_layers.CircleMarker at 0x7f9df62594e0>,\n",
       " <folium.vector_layers.CircleMarker at 0x7f9df6259588>,\n",
       " <folium.vector_layers.CircleMarker at 0x7f9df6259630>,\n",
       " <folium.vector_layers.CircleMarker at 0x7f9df62596d8>,\n",
       " <folium.vector_layers.CircleMarker at 0x7f9df6259780>,\n",
       " <folium.vector_layers.CircleMarker at 0x7f9df62add68>,\n",
       " <folium.vector_layers.CircleMarker at 0x7f9df63ab518>,\n",
       " <folium.vector_layers.CircleMarker at 0x7f9df62418d0>,\n",
       " <folium.vector_layers.CircleMarker at 0x7f9df6241860>,\n",
       " <folium.vector_layers.CircleMarker at 0x7f9df6241dd8>,\n",
       " <folium.vector_layers.CircleMarker at 0x7f9df62414a8>,\n",
       " <folium.vector_layers.CircleMarker at 0x7f9df6241e10>,\n",
       " <folium.vector_layers.CircleMarker at 0x7f9df6241828>,\n",
       " <folium.vector_layers.CircleMarker at 0x7f9df62595c0>,\n",
       " <folium.vector_layers.CircleMarker at 0x7f9df62595f8>,\n",
       " <folium.vector_layers.CircleMarker at 0x7f9df62594a8>,\n",
       " <folium.vector_layers.CircleMarker at 0x7f9df6259080>,\n",
       " <folium.vector_layers.CircleMarker at 0x7f9df6259358>,\n",
       " <folium.vector_layers.CircleMarker at 0x7f9df62592b0>,\n",
       " <folium.vector_layers.CircleMarker at 0x7f9df6259898>,\n",
       " <folium.vector_layers.CircleMarker at 0x7f9df62598d0>,\n",
       " <folium.vector_layers.CircleMarker at 0x7f9df62597b8>,\n",
       " <folium.vector_layers.CircleMarker at 0x7f9df62599b0>,\n",
       " <folium.vector_layers.CircleMarker at 0x7f9df6259a58>,\n",
       " <folium.vector_layers.CircleMarker at 0x7f9df6259b00>,\n",
       " <folium.vector_layers.CircleMarker at 0x7f9df6259ba8>,\n",
       " <folium.vector_layers.CircleMarker at 0x7f9df62ade10>,\n",
       " <folium.vector_layers.CircleMarker at 0x7f9df6241b38>,\n",
       " <folium.vector_layers.CircleMarker at 0x7f9df62417b8>,\n",
       " <folium.vector_layers.CircleMarker at 0x7f9df6241940>,\n",
       " <folium.vector_layers.CircleMarker at 0x7f9df6241908>,\n",
       " <folium.vector_layers.CircleMarker at 0x7f9e243e45f8>,\n",
       " <folium.vector_layers.CircleMarker at 0x7f9df6241198>,\n",
       " <folium.vector_layers.CircleMarker at 0x7f9df6241d30>,\n",
       " <folium.vector_layers.CircleMarker at 0x7f9df639fa20>,\n",
       " <folium.vector_layers.CircleMarker at 0x7f9df639f240>,\n",
       " <folium.vector_layers.CircleMarker at 0x7f9df63aba90>,\n",
       " <folium.vector_layers.CircleMarker at 0x7f9df6259c50>,\n",
       " <folium.vector_layers.CircleMarker at 0x7f9df6259ac8>,\n",
       " <folium.vector_layers.CircleMarker at 0x7f9df6259978>,\n",
       " <folium.vector_layers.CircleMarker at 0x7f9df62590f0>,\n",
       " <folium.vector_layers.CircleMarker at 0x7f9df6259828>,\n",
       " <folium.vector_layers.CircleMarker at 0x7f9df6259278>,\n",
       " <folium.vector_layers.CircleMarker at 0x7f9df6259208>,\n",
       " <folium.vector_layers.CircleMarker at 0x7f9df62596a0>,\n",
       " <folium.vector_layers.CircleMarker at 0x7f9df6259c88>,\n",
       " <folium.vector_layers.CircleMarker at 0x7f9df6259d30>,\n",
       " <folium.vector_layers.CircleMarker at 0x7f9df6259518>,\n",
       " <folium.vector_layers.CircleMarker at 0x7f9df6259e10>,\n",
       " <folium.vector_layers.CircleMarker at 0x7f9df639f550>,\n",
       " <folium.vector_layers.CircleMarker at 0x7f9df639fc18>,\n",
       " <folium.vector_layers.CircleMarker at 0x7f9df63abfd0>,\n",
       " <folium.vector_layers.CircleMarker at 0x7f9df62adcc0>,\n",
       " <folium.vector_layers.CircleMarker at 0x7f9df6241400>,\n",
       " <folium.vector_layers.CircleMarker at 0x7f9df6241f98>,\n",
       " <folium.vector_layers.CircleMarker at 0x7f9df6241fd0>,\n",
       " <folium.vector_layers.CircleMarker at 0x7f9df6259b38>,\n",
       " <folium.vector_layers.CircleMarker at 0x7f9df6259cf8>,\n",
       " <folium.vector_layers.CircleMarker at 0x7f9df6259550>,\n",
       " <folium.vector_layers.CircleMarker at 0x7f9df6259668>,\n",
       " <folium.vector_layers.CircleMarker at 0x7f9df62593c8>,\n",
       " <folium.vector_layers.CircleMarker at 0x7f9df6259860>,\n",
       " <folium.vector_layers.CircleMarker at 0x7f9df6259cc0>,\n",
       " <folium.vector_layers.CircleMarker at 0x7f9df6259f28>,\n",
       " <folium.vector_layers.CircleMarker at 0x7f9df6259f60>,\n",
       " <folium.vector_layers.CircleMarker at 0x7f9df6259e48>,\n",
       " <folium.vector_layers.CircleMarker at 0x7f9df6259f98>,\n",
       " <folium.vector_layers.CircleMarker at 0x7f9df626e0b8>,\n",
       " <folium.vector_layers.CircleMarker at 0x7f9df626e1d0>,\n",
       " <folium.vector_layers.CircleMarker at 0x7f9df626e278>,\n",
       " <folium.vector_layers.CircleMarker at 0x7f9df626e320>,\n",
       " <folium.vector_layers.CircleMarker at 0x7f9df6259748>,\n",
       " <folium.vector_layers.CircleMarker at 0x7f9df6259a20>,\n",
       " <folium.vector_layers.CircleMarker at 0x7f9df6259b70>,\n",
       " <folium.vector_layers.CircleMarker at 0x7f9df62adf60>,\n",
       " <folium.vector_layers.CircleMarker at 0x7f9df6259da0>,\n",
       " <folium.vector_layers.CircleMarker at 0x7f9df6259710>,\n",
       " <folium.vector_layers.CircleMarker at 0x7f9df62597f0>,\n",
       " <folium.vector_layers.CircleMarker at 0x7f9e243e4d30>,\n",
       " <folium.vector_layers.CircleMarker at 0x7f9df63abc50>,\n",
       " <folium.vector_layers.CircleMarker at 0x7f9df639f860>,\n",
       " <folium.vector_layers.CircleMarker at 0x7f9df62410f0>,\n",
       " <folium.vector_layers.CircleMarker at 0x7f9df6241e48>,\n",
       " <folium.vector_layers.CircleMarker at 0x7f9df626e160>,\n",
       " <folium.vector_layers.CircleMarker at 0x7f9df626e3c8>,\n",
       " <folium.vector_layers.CircleMarker at 0x7f9df626e2b0>,\n",
       " <folium.vector_layers.CircleMarker at 0x7f9df626e4e0>,\n",
       " <folium.vector_layers.CircleMarker at 0x7f9df626e518>,\n",
       " <folium.vector_layers.CircleMarker at 0x7f9df626e5c0>,\n",
       " <folium.vector_layers.CircleMarker at 0x7f9df626e668>,\n",
       " <folium.vector_layers.CircleMarker at 0x7f9df626e710>,\n",
       " <folium.vector_layers.CircleMarker at 0x7f9df626e7b8>,\n",
       " <folium.vector_layers.CircleMarker at 0x7f9df626e860>,\n",
       " <folium.vector_layers.CircleMarker at 0x7f9df63ab240>,\n",
       " <folium.vector_layers.CircleMarker at 0x7f9df6241cf8>,\n",
       " <folium.vector_layers.CircleMarker at 0x7f9df6241278>,\n",
       " <folium.vector_layers.CircleMarker at 0x7f9df62592e8>,\n",
       " <folium.vector_layers.CircleMarker at 0x7f9df6259d68>,\n",
       " <folium.vector_layers.CircleMarker at 0x7f9df6259198>,\n",
       " <folium.vector_layers.CircleMarker at 0x7f9df6259940>,\n",
       " <folium.vector_layers.CircleMarker at 0x7f9df626e6a0>,\n",
       " <folium.vector_layers.CircleMarker at 0x7f9df626e6d8>,\n",
       " <folium.vector_layers.CircleMarker at 0x7f9df626e588>,\n",
       " <folium.vector_layers.CircleMarker at 0x7f9df626e128>,\n",
       " <folium.vector_layers.CircleMarker at 0x7f9df626e400>,\n",
       " <folium.vector_layers.CircleMarker at 0x7f9df626e048>,\n",
       " <folium.vector_layers.CircleMarker at 0x7f9df626e908>,\n",
       " <folium.vector_layers.CircleMarker at 0x7f9df626e7f0>,\n",
       " <folium.vector_layers.CircleMarker at 0x7f9df626ea20>,\n",
       " <folium.vector_layers.CircleMarker at 0x7f9df626ea58>,\n",
       " <folium.vector_layers.CircleMarker at 0x7f9df626eb00>,\n",
       " <folium.vector_layers.CircleMarker at 0x7f9df626eba8>,\n",
       " <folium.vector_layers.CircleMarker at 0x7f9df626ec50>,\n",
       " <folium.vector_layers.CircleMarker at 0x7f9df626ecf8>,\n",
       " <folium.vector_layers.CircleMarker at 0x7f9df626eda0>,\n",
       " <folium.vector_layers.CircleMarker at 0x7f9df62591d0>,\n",
       " <folium.vector_layers.CircleMarker at 0x7f9df639f780>,\n",
       " <folium.vector_layers.CircleMarker at 0x7f9df6241da0>,\n",
       " <folium.vector_layers.CircleMarker at 0x7f9df6241a58>,\n",
       " <folium.vector_layers.CircleMarker at 0x7f9df6259be0>,\n",
       " <folium.vector_layers.CircleMarker at 0x7f9df626ecc0>,\n",
       " <folium.vector_layers.CircleMarker at 0x7f9df626eb70>,\n",
       " <folium.vector_layers.CircleMarker at 0x7f9df626e978>,\n",
       " <folium.vector_layers.CircleMarker at 0x7f9df626e9e8>,\n",
       " <folium.vector_layers.CircleMarker at 0x7f9df626e4a8>,\n",
       " <folium.vector_layers.CircleMarker at 0x7f9df626e080>,\n",
       " <folium.vector_layers.CircleMarker at 0x7f9df626e550>,\n",
       " <folium.vector_layers.CircleMarker at 0x7f9df626e630>,\n",
       " <folium.vector_layers.CircleMarker at 0x7f9df626e8d0>,\n",
       " <folium.vector_layers.CircleMarker at 0x7f9df626eeb8>,\n",
       " <folium.vector_layers.CircleMarker at 0x7f9df626eef0>,\n",
       " <folium.vector_layers.CircleMarker at 0x7f9df626edd8>,\n",
       " <folium.vector_layers.CircleMarker at 0x7f9df626efd0>,\n",
       " <folium.vector_layers.CircleMarker at 0x7f9df626ef28>,\n",
       " <folium.vector_layers.CircleMarker at 0x7f9df62c00f0>,\n",
       " <folium.vector_layers.CircleMarker at 0x7f9df62c0208>,\n",
       " <folium.vector_layers.CircleMarker at 0x7f9df62415f8>,\n",
       " <folium.vector_layers.CircleMarker at 0x7f9df6259908>,\n",
       " <folium.vector_layers.CircleMarker at 0x7f9df6259470>,\n",
       " <folium.vector_layers.CircleMarker at 0x7f9df6259fd0>,\n",
       " <folium.vector_layers.CircleMarker at 0x7f9df626ec88>,\n",
       " <folium.vector_layers.CircleMarker at 0x7f9df626e198>,\n",
       " <folium.vector_layers.CircleMarker at 0x7f9df626e828>,\n",
       " <folium.vector_layers.CircleMarker at 0x7f9df626e208>,\n",
       " <folium.vector_layers.CircleMarker at 0x7f9df626e438>,\n",
       " <folium.vector_layers.CircleMarker at 0x7f9df626ea90>,\n",
       " <folium.vector_layers.CircleMarker at 0x7f9df626eac8>,\n",
       " <folium.vector_layers.CircleMarker at 0x7f9df626ed68>,\n",
       " <folium.vector_layers.CircleMarker at 0x7f9df626e898>,\n",
       " <folium.vector_layers.CircleMarker at 0x7f9df62c0198>,\n",
       " <folium.vector_layers.CircleMarker at 0x7f9df62c0160>,\n",
       " <folium.vector_layers.CircleMarker at 0x7f9df62c03c8>,\n",
       " <folium.vector_layers.CircleMarker at 0x7f9df62c0400>,\n",
       " <folium.vector_layers.CircleMarker at 0x7f9df62c04a8>,\n",
       " <folium.vector_layers.CircleMarker at 0x7f9df62c0550>,\n",
       " <folium.vector_layers.CircleMarker at 0x7f9df62c05f8>,\n",
       " <folium.vector_layers.CircleMarker at 0x7f9df62c06a0>,\n",
       " <folium.vector_layers.CircleMarker at 0x7f9df62c0748>,\n",
       " <folium.vector_layers.CircleMarker at 0x7f9df626ebe0>,\n",
       " <folium.vector_layers.CircleMarker at 0x7f9df626e240>,\n",
       " <folium.vector_layers.CircleMarker at 0x7f9df626e2e8>,\n",
       " <folium.vector_layers.CircleMarker at 0x7f9df626ef98>,\n",
       " <folium.vector_layers.CircleMarker at 0x7f9df6241780>,\n",
       " <folium.vector_layers.CircleMarker at 0x7f9df626ef60>,\n",
       " <folium.vector_layers.CircleMarker at 0x7f9df626ee48>,\n",
       " <folium.vector_layers.CircleMarker at 0x7f9df6259ef0>,\n",
       " <folium.vector_layers.CircleMarker at 0x7f9df62c0588>,\n",
       " <folium.vector_layers.CircleMarker at 0x7f9df62c05c0>,\n",
       " <folium.vector_layers.CircleMarker at 0x7f9df62c0470>,\n",
       " <folium.vector_layers.CircleMarker at 0x7f9df62c01d0>,\n",
       " <folium.vector_layers.CircleMarker at 0x7f9df62c0048>,\n",
       " <folium.vector_layers.CircleMarker at 0x7f9df62c07f0>,\n",
       " <folium.vector_layers.CircleMarker at 0x7f9df62c06d8>,\n",
       " <folium.vector_layers.CircleMarker at 0x7f9df62c0908>,\n",
       " <folium.vector_layers.CircleMarker at 0x7f9df62c0940>,\n",
       " <folium.vector_layers.CircleMarker at 0x7f9df62c09e8>,\n",
       " <folium.vector_layers.CircleMarker at 0x7f9df62c0a90>,\n",
       " <folium.vector_layers.CircleMarker at 0x7f9df62c0b38>,\n",
       " <folium.vector_layers.CircleMarker at 0x7f9df62c0be0>,\n",
       " <folium.vector_layers.CircleMarker at 0x7f9df62c0c88>,\n",
       " <folium.vector_layers.CircleMarker at 0x7f9df6259dd8>,\n",
       " <folium.vector_layers.CircleMarker at 0x7f9df626ee80>,\n",
       " <folium.vector_layers.CircleMarker at 0x7f9df626eb38>,\n",
       " <folium.vector_layers.CircleMarker at 0x7f9df626e748>,\n",
       " <folium.vector_layers.CircleMarker at 0x7f9df626e9b0>,\n",
       " <folium.vector_layers.CircleMarker at 0x7f9df62c0ac8>,\n",
       " <folium.vector_layers.CircleMarker at 0x7f9df62c0b00>,\n",
       " <folium.vector_layers.CircleMarker at 0x7f9df62c09b0>,\n",
       " <folium.vector_layers.CircleMarker at 0x7f9df62c0320>,\n",
       " <folium.vector_layers.CircleMarker at 0x7f9df62c0828>,\n",
       " <folium.vector_layers.CircleMarker at 0x7f9df62c0240>,\n",
       " <folium.vector_layers.CircleMarker at 0x7f9df62c0128>,\n",
       " <folium.vector_layers.CircleMarker at 0x7f9df62c0668>,\n",
       " <folium.vector_layers.CircleMarker at 0x7f9df62c0d30>,\n",
       " <folium.vector_layers.CircleMarker at 0x7f9df62c0c18>,\n",
       " <folium.vector_layers.CircleMarker at 0x7f9df62c0e48>,\n",
       " <folium.vector_layers.CircleMarker at 0x7f9df62c0e80>,\n",
       " <folium.vector_layers.CircleMarker at 0x7f9df62c0f28>,\n",
       " <folium.vector_layers.CircleMarker at 0x7f9df62c0fd0>,\n",
       " <folium.vector_layers.CircleMarker at 0x7f9df62c0eb8>,\n",
       " <folium.vector_layers.CircleMarker at 0x7f9df62d70f0>,\n",
       " <folium.vector_layers.CircleMarker at 0x7f9df62d7208>,\n",
       " <folium.vector_layers.CircleMarker at 0x7f9df62c0a20>,\n",
       " <folium.vector_layers.CircleMarker at 0x7f9df62c0ef0>,\n",
       " <folium.vector_layers.CircleMarker at 0x7f9df62c0358>,\n",
       " <folium.vector_layers.CircleMarker at 0x7f9df62c0b70>,\n",
       " <folium.vector_layers.CircleMarker at 0x7f9df62c08d0>,\n",
       " <folium.vector_layers.CircleMarker at 0x7f9df62c0630>,\n",
       " <folium.vector_layers.CircleMarker at 0x7f9df62c0978>,\n",
       " <folium.vector_layers.CircleMarker at 0x7f9df62c0a58>,\n",
       " <folium.vector_layers.CircleMarker at 0x7f9df62c02b0>,\n",
       " <folium.vector_layers.CircleMarker at 0x7f9df626ec18>,\n",
       " <folium.vector_layers.CircleMarker at 0x7f9df6259390>,\n",
       " <folium.vector_layers.CircleMarker at 0x7f9df626e358>,\n",
       " <folium.vector_layers.CircleMarker at 0x7f9df626e940>,\n",
       " <folium.vector_layers.CircleMarker at 0x7f9df62d7080>,\n",
       " <folium.vector_layers.CircleMarker at 0x7f9df62d7128>,\n",
       " <folium.vector_layers.CircleMarker at 0x7f9df62d73c8>,\n",
       " <folium.vector_layers.CircleMarker at 0x7f9df62d7400>,\n",
       " <folium.vector_layers.CircleMarker at 0x7f9df62d74a8>,\n",
       " <folium.vector_layers.CircleMarker at 0x7f9df62d7550>,\n",
       " <folium.vector_layers.CircleMarker at 0x7f9df62d75f8>,\n",
       " <folium.vector_layers.CircleMarker at 0x7f9df62d76a0>,\n",
       " <folium.vector_layers.CircleMarker at 0x7f9df626e5f8>,\n",
       " <folium.vector_layers.CircleMarker at 0x7f9df626e470>,\n",
       " <folium.vector_layers.CircleMarker at 0x7f9df62c0e10>,\n",
       " <folium.vector_layers.CircleMarker at 0x7f9df62c0438>,\n",
       " <folium.vector_layers.CircleMarker at 0x7f9df62c0860>,\n",
       " <folium.vector_layers.CircleMarker at 0x7f9df62c0f98>,\n",
       " <folium.vector_layers.CircleMarker at 0x7f9df62c04e0>,\n",
       " <folium.vector_layers.CircleMarker at 0x7f9df62c0f60>,\n",
       " <folium.vector_layers.CircleMarker at 0x7f9df62c02e8>,\n",
       " <folium.vector_layers.CircleMarker at 0x7f9df62d7438>,\n",
       " <folium.vector_layers.CircleMarker at 0x7f9df62d7358>,\n",
       " <folium.vector_layers.CircleMarker at 0x7f9df62d71d0>,\n",
       " <folium.vector_layers.CircleMarker at 0x7f9df62d72e8>,\n",
       " <folium.vector_layers.CircleMarker at 0x7f9df62d7198>,\n",
       " <folium.vector_layers.CircleMarker at 0x7f9df62d7630>,\n",
       " <folium.vector_layers.CircleMarker at 0x7f9df62d7860>,\n",
       " <folium.vector_layers.CircleMarker at 0x7f9df62d7898>,\n",
       " <folium.vector_layers.CircleMarker at 0x7f9df62d7940>,\n",
       " <folium.vector_layers.CircleMarker at 0x7f9df62d79e8>,\n",
       " <folium.vector_layers.CircleMarker at 0x7f9df62d7a90>,\n",
       " <folium.vector_layers.CircleMarker at 0x7f9df62d7b38>,\n",
       " <folium.vector_layers.CircleMarker at 0x7f9df62d7be0>,\n",
       " <folium.vector_layers.CircleMarker at 0x7f9df6259eb8>,\n",
       " <folium.vector_layers.CircleMarker at 0x7f9df626ed30>,\n",
       " <folium.vector_layers.CircleMarker at 0x7f9df62c0080>,\n",
       " <folium.vector_layers.CircleMarker at 0x7f9df62c0780>,\n",
       " <folium.vector_layers.CircleMarker at 0x7f9df62c0ba8>,\n",
       " <folium.vector_layers.CircleMarker at 0x7f9df62d7a20>,\n",
       " <folium.vector_layers.CircleMarker at 0x7f9df62d7a58>,\n",
       " <folium.vector_layers.CircleMarker at 0x7f9df62d7908>,\n",
       " <folium.vector_layers.CircleMarker at 0x7f9df62d7320>,\n",
       " <folium.vector_layers.CircleMarker at 0x7f9df62d7780>,\n",
       " <folium.vector_layers.CircleMarker at 0x7f9df62d75c0>,\n",
       " <folium.vector_layers.CircleMarker at 0x7f9df62d72b0>,\n",
       " <folium.vector_layers.CircleMarker at 0x7f9df62d74e0>,\n",
       " <folium.vector_layers.CircleMarker at 0x7f9df62d7c88>,\n",
       " <folium.vector_layers.CircleMarker at 0x7f9df62d7b70>,\n",
       " <folium.vector_layers.CircleMarker at 0x7f9df62d7da0>,\n",
       " <folium.vector_layers.CircleMarker at 0x7f9df62d7dd8>,\n",
       " <folium.vector_layers.CircleMarker at 0x7f9df62d7e80>,\n",
       " <folium.vector_layers.CircleMarker at 0x7f9df62d7f28>,\n",
       " <folium.vector_layers.CircleMarker at 0x7f9df62d7fd0>,\n",
       " <folium.vector_layers.CircleMarker at 0x7f9df62d7eb8>,\n",
       " <folium.vector_layers.CircleMarker at 0x7f9df61f00b8>,\n",
       " <folium.vector_layers.CircleMarker at 0x7f9df62d7978>,\n",
       " <folium.vector_layers.CircleMarker at 0x7f9df62d7ef0>,\n",
       " <folium.vector_layers.CircleMarker at 0x7f9df62d7748>,\n",
       " <folium.vector_layers.CircleMarker at 0x7f9df62d7cc0>,\n",
       " <folium.vector_layers.CircleMarker at 0x7f9df62d7470>,\n",
       " <folium.vector_layers.CircleMarker at 0x7f9df62d7668>,\n",
       " <folium.vector_layers.CircleMarker at 0x7f9df62d76d8>,\n",
       " <folium.vector_layers.CircleMarker at 0x7f9df62d7160>,\n",
       " <folium.vector_layers.CircleMarker at 0x7f9df626e780>,\n",
       " <folium.vector_layers.CircleMarker at 0x7f9df62d7048>,\n",
       " <folium.vector_layers.CircleMarker at 0x7f9df62d77f0>,\n",
       " <folium.vector_layers.CircleMarker at 0x7f9df62c0d68>,\n",
       " <folium.vector_layers.CircleMarker at 0x7f9df62c0cc0>,\n",
       " <folium.vector_layers.CircleMarker at 0x7f9df61f0080>,\n",
       " <folium.vector_layers.CircleMarker at 0x7f9df61f01d0>,\n",
       " <folium.vector_layers.CircleMarker at 0x7f9df61f0320>,\n",
       " <folium.vector_layers.CircleMarker at 0x7f9df61f0358>,\n",
       " <folium.vector_layers.CircleMarker at 0x7f9df61f0400>,\n",
       " <folium.vector_layers.CircleMarker at 0x7f9df61f04a8>,\n",
       " <folium.vector_layers.CircleMarker at 0x7f9df61f0550>,\n",
       " <folium.vector_layers.CircleMarker at 0x7f9df61f05f8>,\n",
       " <folium.vector_layers.CircleMarker at 0x7f9df61f06a0>,\n",
       " <folium.vector_layers.CircleMarker at 0x7f9df62d77b8>,\n",
       " <folium.vector_layers.CircleMarker at 0x7f9df62d7240>,\n",
       " <folium.vector_layers.CircleMarker at 0x7f9df62d7828>,\n",
       " <folium.vector_layers.CircleMarker at 0x7f9df62d7f98>,\n",
       " <folium.vector_layers.CircleMarker at 0x7f9df62d7e48>,\n",
       " <folium.vector_layers.CircleMarker at 0x7f9df62d7f60>,\n",
       " <folium.vector_layers.CircleMarker at 0x7f9df62d7710>,\n",
       " <folium.vector_layers.CircleMarker at 0x7f9df62d7c18>,\n",
       " <folium.vector_layers.CircleMarker at 0x7f9df626e0f0>,\n",
       " <folium.vector_layers.CircleMarker at 0x7f9df63abb70>,\n",
       " <folium.vector_layers.CircleMarker at 0x7f9df62c07b8>,\n",
       " <folium.vector_layers.CircleMarker at 0x7f9df6259320>,\n",
       " <folium.vector_layers.CircleMarker at 0x7f9df62c0c50>,\n",
       " <folium.vector_layers.CircleMarker at 0x7f9df62c0da0>,\n",
       " <folium.vector_layers.CircleMarker at 0x7f9df61f0390>,\n",
       " <folium.vector_layers.CircleMarker at 0x7f9df61f0240>,\n",
       " <folium.vector_layers.CircleMarker at 0x7f9df61f0278>,\n",
       " <folium.vector_layers.CircleMarker at 0x7f9df61f0198>,\n",
       " <folium.vector_layers.CircleMarker at 0x7f9df61f0588>,\n",
       " <folium.vector_layers.CircleMarker at 0x7f9df61f0780>,\n",
       " <folium.vector_layers.CircleMarker at 0x7f9df61f0828>,\n",
       " <folium.vector_layers.CircleMarker at 0x7f9df61f0160>,\n",
       " <folium.vector_layers.CircleMarker at 0x7f9df62599e8>,\n",
       " <folium.vector_layers.CircleMarker at 0x7f9df62c0cf8>,\n",
       " <folium.vector_layers.CircleMarker at 0x7f9df62c0dd8>,\n",
       " <folium.vector_layers.CircleMarker at 0x7f9df62c0278>,\n",
       " <folium.vector_layers.CircleMarker at 0x7f9df62d7588>,\n",
       " <folium.vector_layers.CircleMarker at 0x7f9df62d7cf8>,\n",
       " <folium.vector_layers.CircleMarker at 0x7f9df62d70b8>,\n",
       " <folium.vector_layers.CircleMarker at 0x7f9df62d7b00>,\n",
       " <folium.vector_layers.CircleMarker at 0x7f9df62d7390>,\n",
       " <folium.vector_layers.CircleMarker at 0x7f9df61f07f0>,\n",
       " <folium.vector_layers.CircleMarker at 0x7f9df61f00f0>,\n",
       " <folium.vector_layers.CircleMarker at 0x7f9df61f05c0>,\n",
       " <folium.vector_layers.CircleMarker at 0x7f9df61f0128>,\n",
       " <folium.vector_layers.CircleMarker at 0x7f9df61f0710>,\n",
       " <folium.vector_layers.CircleMarker at 0x7f9df61f0978>,\n",
       " <folium.vector_layers.CircleMarker at 0x7f9df61f09b0>,\n",
       " <folium.vector_layers.CircleMarker at 0x7f9df61f0898>,\n",
       " <folium.vector_layers.CircleMarker at 0x7f9df61f0a90>,\n",
       " <folium.vector_layers.CircleMarker at 0x7f9df61f0b38>,\n",
       " <folium.vector_layers.CircleMarker at 0x7f9df61f0be0>,\n",
       " <folium.vector_layers.CircleMarker at 0x7f9df61f0c88>,\n",
       " <folium.vector_layers.CircleMarker at 0x7f9df61f0d30>,\n",
       " <folium.vector_layers.CircleMarker at 0x7f9df62d7c50>,\n",
       " <folium.vector_layers.CircleMarker at 0x7f9df62d7518>,\n",
       " <folium.vector_layers.CircleMarker at 0x7f9df62c0898>,\n",
       " <folium.vector_layers.CircleMarker at 0x7f9df62c00b8>,\n",
       " <folium.vector_layers.CircleMarker at 0x7f9df626e390>,\n",
       " <folium.vector_layers.CircleMarker at 0x7f9df62d7ac8>,\n",
       " <folium.vector_layers.CircleMarker at 0x7f9df61f0668>,\n",
       " <folium.vector_layers.CircleMarker at 0x7f9df61f0940>,\n",
       " <folium.vector_layers.CircleMarker at 0x7f9df61f0a20>,\n",
       " <folium.vector_layers.CircleMarker at 0x7f9df61f0208>,\n",
       " <folium.vector_layers.CircleMarker at 0x7f9df61f04e0>,\n",
       " <folium.vector_layers.CircleMarker at 0x7f9df61f0048>,\n",
       " <folium.vector_layers.CircleMarker at 0x7f9df61f07b8>,\n",
       " <folium.vector_layers.CircleMarker at 0x7f9df61f0dd8>,\n",
       " <folium.vector_layers.CircleMarker at 0x7f9df61f0cc0>,\n",
       " <folium.vector_layers.CircleMarker at 0x7f9df61f0ef0>,\n",
       " <folium.vector_layers.CircleMarker at 0x7f9df61f0f28>,\n",
       " <folium.vector_layers.CircleMarker at 0x7f9df61f0fd0>,\n",
       " <folium.vector_layers.CircleMarker at 0x7f9df61f0d68>,\n",
       " <folium.vector_layers.CircleMarker at 0x7f9df6204128>,\n",
       " <folium.vector_layers.CircleMarker at 0x7f9df6204208>,\n",
       " <folium.vector_layers.CircleMarker at 0x7f9df62042b0>,\n",
       " <folium.vector_layers.CircleMarker at 0x7f9df61f0cf8>,\n",
       " <folium.vector_layers.CircleMarker at 0x7f9df61f0748>,\n",
       " <folium.vector_layers.CircleMarker at 0x7f9df61f02e8>,\n",
       " <folium.vector_layers.CircleMarker at 0x7f9df61f03c8>,\n",
       " <folium.vector_layers.CircleMarker at 0x7f9df61f0a58>,\n",
       " <folium.vector_layers.CircleMarker at 0x7f9df626ee10>,\n",
       " <folium.vector_layers.CircleMarker at 0x7f9df61f0438>,\n",
       " <folium.vector_layers.CircleMarker at 0x7f9df62c0518>,\n",
       " <folium.vector_layers.CircleMarker at 0x7f9df61f0518>,\n",
       " <folium.vector_layers.CircleMarker at 0x7f9df61f0b70>,\n",
       " <folium.vector_layers.CircleMarker at 0x7f9df62d78d0>,\n",
       " <folium.vector_layers.CircleMarker at 0x7f9df62d7e10>,\n",
       " <folium.vector_layers.CircleMarker at 0x7f9df6204198>,\n",
       " <folium.vector_layers.CircleMarker at 0x7f9df6204358>,\n",
       " <folium.vector_layers.CircleMarker at 0x7f9df6204240>,\n",
       " <folium.vector_layers.CircleMarker at 0x7f9df6204470>,\n",
       " <folium.vector_layers.CircleMarker at 0x7f9df62044a8>,\n",
       " <folium.vector_layers.CircleMarker at 0x7f9df6204550>,\n",
       " <folium.vector_layers.CircleMarker at 0x7f9df62045f8>,\n",
       " <folium.vector_layers.CircleMarker at 0x7f9df62046a0>,\n",
       " <folium.vector_layers.CircleMarker at 0x7f9df6204748>,\n",
       " <folium.vector_layers.CircleMarker at 0x7f9df62047f0>,\n",
       " <folium.vector_layers.CircleMarker at 0x7f9df62c0710>,\n",
       " <folium.vector_layers.CircleMarker at 0x7f9df62d7278>,\n",
       " <folium.vector_layers.CircleMarker at 0x7f9df61f0c50>,\n",
       " <folium.vector_layers.CircleMarker at 0x7f9df61f0c18>,\n",
       " <folium.vector_layers.CircleMarker at 0x7f9df61f0470>,\n",
       " <folium.vector_layers.CircleMarker at 0x7f9df61f02b0>,\n",
       " <folium.vector_layers.CircleMarker at 0x7f9df61f0e80>,\n",
       " <folium.vector_layers.CircleMarker at 0x7f9df61f0eb8>,\n",
       " <folium.vector_layers.CircleMarker at 0x7f9df6204710>,\n",
       " <folium.vector_layers.CircleMarker at 0x7f9df62045c0>,\n",
       " <folium.vector_layers.CircleMarker at 0x7f9df62043c8>,\n",
       " <folium.vector_layers.CircleMarker at 0x7f9df6204438>,\n",
       " <folium.vector_layers.CircleMarker at 0x7f9df6204160>,\n",
       " <folium.vector_layers.CircleMarker at 0x7f9df6204320>,\n",
       " <folium.vector_layers.CircleMarker at 0x7f9df6204908>,\n",
       " <folium.vector_layers.CircleMarker at 0x7f9df6204940>,\n",
       " <folium.vector_layers.CircleMarker at 0x7f9df6204828>,\n",
       " <folium.vector_layers.CircleMarker at 0x7f9df6204a20>,\n",
       " <folium.vector_layers.CircleMarker at 0x7f9df6204ac8>,\n",
       " <folium.vector_layers.CircleMarker at 0x7f9df6204b70>,\n",
       " <folium.vector_layers.CircleMarker at 0x7f9df6204c18>,\n",
       " <folium.vector_layers.CircleMarker at 0x7f9df6204cc0>,\n",
       " <folium.vector_layers.CircleMarker at 0x7f9df62c0390>,\n",
       " <folium.vector_layers.CircleMarker at 0x7f9df62d7d68>,\n",
       " <folium.vector_layers.CircleMarker at 0x7f9df61f0e48>,\n",
       " <folium.vector_layers.CircleMarker at 0x7f9df61f0e10>,\n",
       " <folium.vector_layers.CircleMarker at 0x7f9df61f0908>,\n",
       " <folium.vector_layers.CircleMarker at 0x7f9df6204b00>,\n",
       " <folium.vector_layers.CircleMarker at 0x7f9df6204b38>,\n",
       " <folium.vector_layers.CircleMarker at 0x7f9df62049e8>,\n",
       " <folium.vector_layers.CircleMarker at 0x7f9df6204048>,\n",
       " <folium.vector_layers.CircleMarker at 0x7f9df6204898>,\n",
       " <folium.vector_layers.CircleMarker at 0x7f9df6204400>,\n",
       " <folium.vector_layers.CircleMarker at 0x7f9df62040b8>,\n",
       " <folium.vector_layers.CircleMarker at 0x7f9df62042e8>,\n",
       " <folium.vector_layers.CircleMarker at 0x7f9df6204860>,\n",
       " <folium.vector_layers.CircleMarker at 0x7f9df6204dd8>,\n",
       " <folium.vector_layers.CircleMarker at 0x7f9df6204e10>,\n",
       " <folium.vector_layers.CircleMarker at 0x7f9df6204cf8>,\n",
       " <folium.vector_layers.CircleMarker at 0x7f9df6204ef0>,\n",
       " <folium.vector_layers.CircleMarker at 0x7f9df6204f98>,\n",
       " <folium.vector_layers.CircleMarker at 0x7f9df6204f28>,\n",
       " <folium.vector_layers.CircleMarker at 0x7f9df62170b8>,\n",
       " <folium.vector_layers.CircleMarker at 0x7f9df62d7d30>,\n",
       " <folium.vector_layers.CircleMarker at 0x7f9df61f0ac8>,\n",
       " <folium.vector_layers.CircleMarker at 0x7f9df61f0f98>,\n",
       " <folium.vector_layers.CircleMarker at 0x7f9df61f0ba8>,\n",
       " <folium.vector_layers.CircleMarker at 0x7f9df6204e48>,\n",
       " <folium.vector_layers.CircleMarker at 0x7f9df6204ba8>,\n",
       " <folium.vector_layers.CircleMarker at 0x7f9df6204c50>,\n",
       " <folium.vector_layers.CircleMarker at 0x7f9df6204390>,\n",
       " <folium.vector_layers.CircleMarker at 0x7f9df6204518>,\n",
       " <folium.vector_layers.CircleMarker at 0x7f9df62046d8>,\n",
       " <folium.vector_layers.CircleMarker at 0x7f9df62041d0>,\n",
       " <folium.vector_layers.CircleMarker at 0x7f9df62048d0>,\n",
       " <folium.vector_layers.CircleMarker at 0x7f9df6204c88>,\n",
       " <folium.vector_layers.CircleMarker at 0x7f9df6204a90>,\n",
       " <folium.vector_layers.CircleMarker at 0x7f9df6217208>,\n",
       " <folium.vector_layers.CircleMarker at 0x7f9df62172e8>,\n",
       " <folium.vector_layers.CircleMarker at 0x7f9df6217320>,\n",
       " <folium.vector_layers.CircleMarker at 0x7f9df62173c8>,\n",
       " <folium.vector_layers.CircleMarker at 0x7f9df6217470>,\n",
       " <folium.vector_layers.CircleMarker at 0x7f9df6217518>,\n",
       " <folium.vector_layers.CircleMarker at 0x7f9df62175c0>,\n",
       " <folium.vector_layers.CircleMarker at 0x7f9df6217668>,\n",
       " <folium.vector_layers.CircleMarker at 0x7f9df6204fd0>,\n",
       " <folium.vector_layers.CircleMarker at 0x7f9df6204780>,\n",
       " <folium.vector_layers.CircleMarker at 0x7f9df62044e0>,\n",
       " <folium.vector_layers.CircleMarker at 0x7f9df6204f60>,\n",
       " <folium.vector_layers.CircleMarker at 0x7f9df6204668>,\n",
       " <folium.vector_layers.CircleMarker at 0x7f9df62d79b0>,\n",
       " <folium.vector_layers.CircleMarker at 0x7f9df6204eb8>,\n",
       " <folium.vector_layers.CircleMarker at 0x7f9df61f06d8>,\n",
       " <folium.vector_layers.CircleMarker at 0x7f9df61f09e8>,\n",
       " <folium.vector_layers.CircleMarker at 0x7f9df6217588>,\n",
       " <folium.vector_layers.CircleMarker at 0x7f9df6217438>,\n",
       " <folium.vector_layers.CircleMarker at 0x7f9df6217048>,\n",
       " <folium.vector_layers.CircleMarker at 0x7f9df6217278>,\n",
       " <folium.vector_layers.CircleMarker at 0x7f9df6217710>,\n",
       " <folium.vector_layers.CircleMarker at 0x7f9df62175f8>,\n",
       " <folium.vector_layers.CircleMarker at 0x7f9df6217828>,\n",
       " <folium.vector_layers.CircleMarker at 0x7f9df6217860>,\n",
       " <folium.vector_layers.CircleMarker at 0x7f9df6217908>,\n",
       " <folium.vector_layers.CircleMarker at 0x7f9df62179b0>,\n",
       " <folium.vector_layers.CircleMarker at 0x7f9df6217a58>,\n",
       " <folium.vector_layers.CircleMarker at 0x7f9df6217b00>,\n",
       " <folium.vector_layers.CircleMarker at 0x7f9df6217ba8>,\n",
       " <folium.vector_layers.CircleMarker at 0x7f9df61f0f60>,\n",
       " <folium.vector_layers.CircleMarker at 0x7f9df6204d68>,\n",
       " <folium.vector_layers.CircleMarker at 0x7f9df6204da0>,\n",
       " <folium.vector_layers.CircleMarker at 0x7f9df6204978>,\n",
       " <folium.vector_layers.CircleMarker at 0x7f9df62040f0>,\n",
       " <folium.vector_layers.CircleMarker at 0x7f9df6204630>,\n",
       " <folium.vector_layers.CircleMarker at 0x7f9df6217898>,\n",
       " <folium.vector_layers.CircleMarker at 0x7f9df62177b8>,\n",
       " <folium.vector_layers.CircleMarker at 0x7f9df62171d0>,\n",
       " <folium.vector_layers.CircleMarker at 0x7f9df62170f0>,\n",
       " <folium.vector_layers.CircleMarker at 0x7f9df6217550>,\n",
       " <folium.vector_layers.CircleMarker at 0x7f9df6217400>,\n",
       " <folium.vector_layers.CircleMarker at 0x7f9df62174e0>,\n",
       " <folium.vector_layers.CircleMarker at 0x7f9df6217c50>,\n",
       " <folium.vector_layers.CircleMarker at 0x7f9df6217b38>,\n",
       " <folium.vector_layers.CircleMarker at 0x7f9df6217d68>,\n",
       " <folium.vector_layers.CircleMarker at 0x7f9df6217da0>,\n",
       " <folium.vector_layers.CircleMarker at 0x7f9df6217e48>,\n",
       " <folium.vector_layers.CircleMarker at 0x7f9df6217ef0>,\n",
       " <folium.vector_layers.CircleMarker at 0x7f9df6217f98>,\n",
       " <folium.vector_layers.CircleMarker at 0x7f9df6217f28>,\n",
       " <folium.vector_layers.CircleMarker at 0x7f9df61b0080>,\n",
       " <folium.vector_layers.CircleMarker at 0x7f9df6217b70>,\n",
       " <folium.vector_layers.CircleMarker at 0x7f9df6217be0>,\n",
       " <folium.vector_layers.CircleMarker at 0x7f9df62174a8>,\n",
       " <folium.vector_layers.CircleMarker at 0x7f9df6217390>,\n",
       " <folium.vector_layers.CircleMarker at 0x7f9df6217a90>,\n",
       " <folium.vector_layers.CircleMarker at 0x7f9df6217240>,\n",
       " <folium.vector_layers.CircleMarker at 0x7f9df6217080>,\n",
       " <folium.vector_layers.CircleMarker at 0x7f9df6217ac8>,\n",
       " <folium.vector_layers.CircleMarker at 0x7f9df62176a0>,\n",
       " <folium.vector_layers.CircleMarker at 0x7f9df6217780>,\n",
       " <folium.vector_layers.CircleMarker at 0x7f9df62047b8>,\n",
       " <folium.vector_layers.CircleMarker at 0x7f9df61f0b00>,\n",
       " <folium.vector_layers.CircleMarker at 0x7f9df6204588>,\n",
       " <folium.vector_layers.CircleMarker at 0x7f9df6204080>,\n",
       " <folium.vector_layers.CircleMarker at 0x7f9df61b0198>,\n",
       " <folium.vector_layers.CircleMarker at 0x7f9df61b02e8>,\n",
       " <folium.vector_layers.CircleMarker at 0x7f9df61b0320>,\n",
       " <folium.vector_layers.CircleMarker at 0x7f9df61b03c8>,\n",
       " <folium.vector_layers.CircleMarker at 0x7f9df61b0470>,\n",
       " <folium.vector_layers.CircleMarker at 0x7f9df61b0518>,\n",
       " <folium.vector_layers.CircleMarker at 0x7f9df61b05c0>,\n",
       " <folium.vector_layers.CircleMarker at 0x7f9df61b0668>,\n",
       " <folium.vector_layers.CircleMarker at 0x7f9df6204a58>,\n",
       " <folium.vector_layers.CircleMarker at 0x7f9df62049b0>,\n",
       " <folium.vector_layers.CircleMarker at 0x7f9df6217a20>,\n",
       " <folium.vector_layers.CircleMarker at 0x7f9df62177f0>,\n",
       " <folium.vector_layers.CircleMarker at 0x7f9df6217630>,\n",
       " <folium.vector_layers.CircleMarker at 0x7f9df6217358>,\n",
       " <folium.vector_layers.CircleMarker at 0x7f9df6217e10>,\n",
       " <folium.vector_layers.CircleMarker at 0x7f9df6217e80>,\n",
       " <folium.vector_layers.CircleMarker at 0x7f9df6217dd8>,\n",
       " <folium.vector_layers.CircleMarker at 0x7f9df61b0358>,\n",
       " <folium.vector_layers.CircleMarker at 0x7f9df61b0208>,\n",
       " <folium.vector_layers.CircleMarker at 0x7f9df61b0240>,\n",
       " <folium.vector_layers.CircleMarker at 0x7f9df61b0160>,\n",
       " <folium.vector_layers.CircleMarker at 0x7f9df61b0710>,\n",
       " <folium.vector_layers.CircleMarker at 0x7f9df61b05f8>,\n",
       " <folium.vector_layers.CircleMarker at 0x7f9df61b0828>,\n",
       " <folium.vector_layers.CircleMarker at 0x7f9df61b0860>,\n",
       " <folium.vector_layers.CircleMarker at 0x7f9df61b0908>,\n",
       " <folium.vector_layers.CircleMarker at 0x7f9df61b09b0>,\n",
       " <folium.vector_layers.CircleMarker at 0x7f9df61b0a58>,\n",
       " <folium.vector_layers.CircleMarker at 0x7f9df61b0b00>,\n",
       " <folium.vector_layers.CircleMarker at 0x7f9df61b0ba8>,\n",
       " <folium.vector_layers.CircleMarker at 0x7f9df62179e8>,\n",
       " <folium.vector_layers.CircleMarker at 0x7f9df6204278>,\n",
       " <folium.vector_layers.CircleMarker at 0x7f9df61f0630>,\n",
       " <folium.vector_layers.CircleMarker at 0x7f9df6217748>,\n",
       " <folium.vector_layers.CircleMarker at 0x7f9df62172b0>,\n",
       " <folium.vector_layers.CircleMarker at 0x7f9df6217cc0>,\n",
       " <folium.vector_layers.CircleMarker at 0x7f9df61b0898>,\n",
       " <folium.vector_layers.CircleMarker at 0x7f9df61b07b8>,\n",
       " <folium.vector_layers.CircleMarker at 0x7f9df61b0128>,\n",
       " <folium.vector_layers.CircleMarker at 0x7f9df61b02b0>,\n",
       " <folium.vector_layers.CircleMarker at 0x7f9df61b0550>,\n",
       " <folium.vector_layers.CircleMarker at 0x7f9df61b0588>,\n",
       " <folium.vector_layers.CircleMarker at 0x7f9df61b00f0>,\n",
       " <folium.vector_layers.CircleMarker at 0x7f9df61b06d8>,\n",
       " <folium.vector_layers.CircleMarker at 0x7f9df61b0cc0>,\n",
       " <folium.vector_layers.CircleMarker at 0x7f9df61b0cf8>,\n",
       " <folium.vector_layers.CircleMarker at 0x7f9df61b0be0>,\n",
       " <folium.vector_layers.CircleMarker at 0x7f9df61b0dd8>,\n",
       " <folium.vector_layers.CircleMarker at 0x7f9df61b0e80>,\n",
       " <folium.vector_layers.CircleMarker at 0x7f9df61b0f28>,\n",
       " <folium.vector_layers.CircleMarker at 0x7f9df61b0fd0>,\n",
       " <folium.vector_layers.CircleMarker at 0x7f9df61b0eb8>,\n",
       " <folium.vector_layers.CircleMarker at 0x7f9df61b0d30>,\n",
       " <folium.vector_layers.CircleMarker at 0x7f9df61b0a90>,\n",
       " <folium.vector_layers.CircleMarker at 0x7f9df61b0b38>,\n",
       " <folium.vector_layers.CircleMarker at 0x7f9df61b04e0>,\n",
       " <folium.vector_layers.CircleMarker at 0x7f9df61b0438>,\n",
       " <folium.vector_layers.CircleMarker at 0x7f9df61b08d0>,\n",
       " <folium.vector_layers.CircleMarker at 0x7f9df61b07f0>,\n",
       " <folium.vector_layers.CircleMarker at 0x7f9df6204e80>,\n",
       " <folium.vector_layers.CircleMarker at 0x7f9df61b0978>,\n",
       " <folium.vector_layers.CircleMarker at 0x7f9df61b00b8>,\n",
       " <folium.vector_layers.CircleMarker at 0x7f9df61b0390>,\n",
       " <folium.vector_layers.CircleMarker at 0x7f9df6217f60>,\n",
       " <folium.vector_layers.CircleMarker at 0x7f9df62d7ba8>,\n",
       " <folium.vector_layers.CircleMarker at 0x7f9df6259e80>,\n",
       " <folium.vector_layers.CircleMarker at 0x7f9df6217c18>,\n",
       " <folium.vector_layers.CircleMarker at 0x7f9df61f0860>,\n",
       " <folium.vector_layers.CircleMarker at 0x7f9df6217c88>,\n",
       " <folium.vector_layers.CircleMarker at 0x7f9df6217160>,\n",
       " <folium.vector_layers.CircleMarker at 0x7f9df61c20f0>,\n",
       " <folium.vector_layers.CircleMarker at 0x7f9df61c2208>,\n",
       " <folium.vector_layers.CircleMarker at 0x7f9df61c22b0>,\n",
       " <folium.vector_layers.CircleMarker at 0x7f9df61c2358>,\n",
       " <folium.vector_layers.CircleMarker at 0x7f9df61f0da0>,\n",
       " <folium.vector_layers.CircleMarker at 0x7f9df6217eb8>,\n",
       " <folium.vector_layers.CircleMarker at 0x7f9df6204d30>,\n",
       " <folium.vector_layers.CircleMarker at 0x7f9df6217978>,\n",
       " <folium.vector_layers.CircleMarker at 0x7f9df6217fd0>,\n",
       " <folium.vector_layers.CircleMarker at 0x7f9df61b09e8>,\n",
       " <folium.vector_layers.CircleMarker at 0x7f9df61b04a8>,\n",
       " <folium.vector_layers.CircleMarker at 0x7f9df61b0278>,\n",
       " <folium.vector_layers.CircleMarker at 0x7f9df61b0e48>,\n",
       " <folium.vector_layers.CircleMarker at 0x7f9df61b0e10>,\n",
       " <folium.vector_layers.CircleMarker at 0x7f9df61b0630>,\n",
       " <folium.vector_layers.CircleMarker at 0x7f9df61b0da0>,\n",
       " <folium.vector_layers.CircleMarker at 0x7f9df61c2278>,\n",
       " <folium.vector_layers.CircleMarker at 0x7f9df61c2048>,\n",
       " <folium.vector_layers.CircleMarker at 0x7f9df61c2470>,\n",
       " <folium.vector_layers.CircleMarker at 0x7f9df61c24a8>,\n",
       " <folium.vector_layers.CircleMarker at 0x7f9df61c2390>,\n",
       " <folium.vector_layers.CircleMarker at 0x7f9df61c2588>,\n",
       " <folium.vector_layers.CircleMarker at 0x7f9df61c2630>,\n",
       " <folium.vector_layers.CircleMarker at 0x7f9df61c26d8>,\n",
       " <folium.vector_layers.CircleMarker at 0x7f9df61c2780>,\n",
       " <folium.vector_layers.CircleMarker at 0x7f9df61b0400>,\n",
       " <folium.vector_layers.CircleMarker at 0x7f9df61b0d68>,\n",
       " <folium.vector_layers.CircleMarker at 0x7f9df6204be0>,\n",
       " <folium.vector_layers.CircleMarker at 0x7f9df61b01d0>,\n",
       " <folium.vector_layers.CircleMarker at 0x7f9df61f08d0>,\n",
       " <folium.vector_layers.CircleMarker at 0x7f9df61b0c18>,\n",
       " <folium.vector_layers.CircleMarker at 0x7f9df6217940>,\n",
       " <folium.vector_layers.CircleMarker at 0x7f9df62178d0>,\n",
       " <folium.vector_layers.CircleMarker at 0x7f9df61c2828>,\n",
       " <folium.vector_layers.CircleMarker at 0x7f9df61c26a0>,\n",
       " <folium.vector_layers.CircleMarker at 0x7f9df61c2550>,\n",
       " <folium.vector_layers.CircleMarker at 0x7f9df61c21d0>,\n",
       " <folium.vector_layers.CircleMarker at 0x7f9df61c2400>,\n",
       " <folium.vector_layers.CircleMarker at 0x7f9df61c2320>,\n",
       " <folium.vector_layers.CircleMarker at 0x7f9df61c2710>,\n",
       " <folium.vector_layers.CircleMarker at 0x7f9df61c2940>,\n",
       " <folium.vector_layers.CircleMarker at 0x7f9df61c2978>,\n",
       " <folium.vector_layers.CircleMarker at 0x7f9df61c2a20>,\n",
       " <folium.vector_layers.CircleMarker at 0x7f9df61c2ac8>,\n",
       " <folium.vector_layers.CircleMarker at 0x7f9df61c2b70>,\n",
       " <folium.vector_layers.CircleMarker at 0x7f9df61c2c18>,\n",
       " <folium.vector_layers.CircleMarker at 0x7f9df61c2cc0>,\n",
       " <folium.vector_layers.CircleMarker at 0x7f9df6217d30>,\n",
       " <folium.vector_layers.CircleMarker at 0x7f9df6217198>,\n",
       " <folium.vector_layers.CircleMarker at 0x7f9df61b06a0>,\n",
       " <folium.vector_layers.CircleMarker at 0x7f9df61b0a20>,\n",
       " <folium.vector_layers.CircleMarker at 0x7f9df61b0c88>,\n",
       " <folium.vector_layers.CircleMarker at 0x7f9df61c2b00>,\n",
       " <folium.vector_layers.CircleMarker at 0x7f9df61c2b38>,\n",
       " <folium.vector_layers.CircleMarker at 0x7f9df61c29e8>,\n",
       " <folium.vector_layers.CircleMarker at 0x7f9df61c2080>,\n",
       " <folium.vector_layers.CircleMarker at 0x7f9df61c2860>,\n",
       " <folium.vector_layers.CircleMarker at 0x7f9df61c24e0>,\n",
       " <folium.vector_layers.CircleMarker at 0x7f9df61c2518>,\n",
       " <folium.vector_layers.CircleMarker at 0x7f9df61c2748>,\n",
       " <folium.vector_layers.CircleMarker at 0x7f9df61c2d68>,\n",
       " <folium.vector_layers.CircleMarker at 0x7f9df61c2c50>,\n",
       " <folium.vector_layers.CircleMarker at 0x7f9df61c2e80>,\n",
       " <folium.vector_layers.CircleMarker at 0x7f9df61c2eb8>,\n",
       " <folium.vector_layers.CircleMarker at 0x7f9df61c2f60>,\n",
       " <folium.vector_layers.CircleMarker at 0x7f9df61c2ef0>,\n",
       " <folium.vector_layers.CircleMarker at 0x7f9df61d6048>,\n",
       " <folium.vector_layers.CircleMarker at 0x7f9df61d6128>,\n",
       " <folium.vector_layers.CircleMarker at 0x7f9df61d6240>,\n",
       " <folium.vector_layers.CircleMarker at 0x7f9df61c2a58>,\n",
       " <folium.vector_layers.CircleMarker at 0x7f9df61c2f28>,\n",
       " <folium.vector_layers.CircleMarker at 0x7f9df61c2438>,\n",
       " <folium.vector_layers.CircleMarker at 0x7f9df61c2ba8>,\n",
       " <folium.vector_layers.CircleMarker at 0x7f9df61c2908>,\n",
       " <folium.vector_layers.CircleMarker at 0x7f9df61c2198>,\n",
       " <folium.vector_layers.CircleMarker at 0x7f9df61c29b0>,\n",
       " <folium.vector_layers.CircleMarker at 0x7f9df61c2a90>,\n",
       " <folium.vector_layers.CircleMarker at 0x7f9df61c2160>,\n",
       " <folium.vector_layers.CircleMarker at 0x7f9df61b0ef0>,\n",
       " <folium.vector_layers.CircleMarker at 0x7f9df6217128>,\n",
       " <folium.vector_layers.CircleMarker at 0x7f9df61b0f98>,\n",
       " <folium.vector_layers.CircleMarker at 0x7f9df61b0748>,\n",
       " <folium.vector_layers.CircleMarker at 0x7f9df61d60b8>,\n",
       " <folium.vector_layers.CircleMarker at 0x7f9df61d6160>,\n",
       " <folium.vector_layers.CircleMarker at 0x7f9df61d6400>,\n",
       " <folium.vector_layers.CircleMarker at 0x7f9df61d6438>,\n",
       " <folium.vector_layers.CircleMarker at 0x7f9df61d64e0>,\n",
       " <folium.vector_layers.CircleMarker at 0x7f9df61d6588>,\n",
       " <folium.vector_layers.CircleMarker at 0x7f9df61d6630>,\n",
       " <folium.vector_layers.CircleMarker at 0x7f9df61d66d8>,\n",
       " <folium.vector_layers.CircleMarker at 0x7f9df61d6780>,\n",
       " <folium.vector_layers.CircleMarker at 0x7f9df61b0780>,\n",
       " <folium.vector_layers.CircleMarker at 0x7f9df61b0048>,\n",
       " <folium.vector_layers.CircleMarker at 0x7f9df61c27b8>,\n",
       " <folium.vector_layers.CircleMarker at 0x7f9df61c22e8>,\n",
       " <folium.vector_layers.CircleMarker at 0x7f9df61c2dd8>,\n",
       " <folium.vector_layers.CircleMarker at 0x7f9df61c20b8>,\n",
       " <folium.vector_layers.CircleMarker at 0x7f9df61c2e10>,\n",
       " <folium.vector_layers.CircleMarker at 0x7f9df61c2898>,\n",
       " <folium.vector_layers.CircleMarker at 0x7f9df61d66a0>,\n",
       " <folium.vector_layers.CircleMarker at 0x7f9df61d6550>,\n",
       " <folium.vector_layers.CircleMarker at 0x7f9df61d62e8>,\n",
       " <folium.vector_layers.CircleMarker at 0x7f9df61d63c8>,\n",
       " <folium.vector_layers.CircleMarker at 0x7f9df61d60f0>,\n",
       " <folium.vector_layers.CircleMarker at 0x7f9df61d6828>,\n",
       " <folium.vector_layers.CircleMarker at 0x7f9df61d6710>,\n",
       " <folium.vector_layers.CircleMarker at 0x7f9df61d6940>,\n",
       " <folium.vector_layers.CircleMarker at 0x7f9df61d6978>,\n",
       " <folium.vector_layers.CircleMarker at 0x7f9df61d6a20>,\n",
       " <folium.vector_layers.CircleMarker at 0x7f9df61d6ac8>,\n",
       " <folium.vector_layers.CircleMarker at 0x7f9df61d6b70>,\n",
       " <folium.vector_layers.CircleMarker at 0x7f9df61d6c18>,\n",
       " <folium.vector_layers.CircleMarker at 0x7f9df61d6cc0>,\n",
       " <folium.vector_layers.CircleMarker at 0x7f9df61c2c88>,\n",
       " <folium.vector_layers.CircleMarker at 0x7f9df61c2128>,\n",
       " <folium.vector_layers.CircleMarker at 0x7f9df61b0940>,\n",
       " <folium.vector_layers.CircleMarker at 0x7f9df61c28d0>,\n",
       " <folium.vector_layers.CircleMarker at 0x7f9df61c2be0>,\n",
       " <folium.vector_layers.CircleMarker at 0x7f9df61d6be0>,\n",
       " <folium.vector_layers.CircleMarker at 0x7f9df61d6a90>,\n",
       " <folium.vector_layers.CircleMarker at 0x7f9df61d6898>,\n",
       " <folium.vector_layers.CircleMarker at 0x7f9df61d6908>,\n",
       " <folium.vector_layers.CircleMarker at 0x7f9df61d6208>,\n",
       " <folium.vector_layers.CircleMarker at 0x7f9df61d6358>,\n",
       " <folium.vector_layers.CircleMarker at 0x7f9df61d6518>,\n",
       " <folium.vector_layers.CircleMarker at 0x7f9df61d65f8>,\n",
       " <folium.vector_layers.CircleMarker at 0x7f9df61d6d68>,\n",
       " <folium.vector_layers.CircleMarker at 0x7f9df61d6c50>,\n",
       " <folium.vector_layers.CircleMarker at 0x7f9df61d6e80>,\n",
       " <folium.vector_layers.CircleMarker at 0x7f9df61d6eb8>,\n",
       " <folium.vector_layers.CircleMarker at 0x7f9df61d6f60>,\n",
       " <folium.vector_layers.CircleMarker at 0x7f9df61d6ef0>,\n",
       " <folium.vector_layers.CircleMarker at 0x7f9df61ec048>,\n",
       " <folium.vector_layers.CircleMarker at 0x7f9df61ec160>,\n",
       " <folium.vector_layers.CircleMarker at 0x7f9df61ec240>,\n",
       " <folium.vector_layers.CircleMarker at 0x7f9df61b0c50>,\n",
       " <folium.vector_layers.CircleMarker at 0x7f9df61c23c8>,\n",
       " <folium.vector_layers.CircleMarker at 0x7f9df61c2fd0>,\n",
       " <folium.vector_layers.CircleMarker at 0x7f9df61d6f98>,\n",
       " <folium.vector_layers.CircleMarker at 0x7f9df61d6f28>,\n",
       " <folium.vector_layers.CircleMarker at 0x7f9df61d6e48>,\n",
       " <folium.vector_layers.CircleMarker at 0x7f9df61d6470>,\n",
       " <folium.vector_layers.CircleMarker at 0x7f9df61d6278>,\n",
       " <folium.vector_layers.CircleMarker at 0x7f9df61d6198>,\n",
       " <folium.vector_layers.CircleMarker at 0x7f9df61d6860>,\n",
       " <folium.vector_layers.CircleMarker at 0x7f9df61d6a58>,\n",
       " <folium.vector_layers.CircleMarker at 0x7f9df61d6b38>,\n",
       " <folium.vector_layers.CircleMarker at 0x7f9df61d69e8>,\n",
       " <folium.vector_layers.CircleMarker at 0x7f9df61ec208>,\n",
       " <folium.vector_layers.CircleMarker at 0x7f9df61ec2e8>,\n",
       " <folium.vector_layers.CircleMarker at 0x7f9df61ec390>,\n",
       " <folium.vector_layers.CircleMarker at 0x7f9df61ec278>,\n",
       " <folium.vector_layers.CircleMarker at 0x7f9df61ec470>,\n",
       " <folium.vector_layers.CircleMarker at 0x7f9df61ec518>,\n",
       " <folium.vector_layers.CircleMarker at 0x7f9df61ec5c0>,\n",
       " <folium.vector_layers.CircleMarker at 0x7f9df61ec668>,\n",
       " <folium.vector_layers.CircleMarker at 0x7f9df61d6cf8>,\n",
       " <folium.vector_layers.CircleMarker at 0x7f9df61d6d30>,\n",
       " <folium.vector_layers.CircleMarker at 0x7f9df61d68d0>,\n",
       " <folium.vector_layers.CircleMarker at 0x7f9df61d6dd8>,\n",
       " <folium.vector_layers.CircleMarker at 0x7f9df61d6da0>,\n",
       " <folium.vector_layers.CircleMarker at 0x7f9df61b0ac8>,\n",
       " <folium.vector_layers.CircleMarker at 0x7f9df61d6080>,\n",
       " <folium.vector_layers.CircleMarker at 0x7f9df61c25f8>,\n",
       " <folium.vector_layers.CircleMarker at 0x7f9df61c2240>,\n",
       " <folium.vector_layers.CircleMarker at 0x7f9df61ec710>,\n",
       " <folium.vector_layers.CircleMarker at 0x7f9df61ec588>,\n",
       " <folium.vector_layers.CircleMarker at 0x7f9df61ec438>,\n",
       " <folium.vector_layers.CircleMarker at 0x7f9df61ec198>,\n",
       " <folium.vector_layers.CircleMarker at 0x7f9df61ec1d0>,\n",
       " <folium.vector_layers.CircleMarker at 0x7f9df61ec5f8>,\n",
       " <folium.vector_layers.CircleMarker at 0x7f9df61ec828>,\n",
       " <folium.vector_layers.CircleMarker at 0x7f9df61ec860>,\n",
       " <folium.vector_layers.CircleMarker at 0x7f9df61ec908>,\n",
       " <folium.vector_layers.CircleMarker at 0x7f9df61ec9b0>,\n",
       " <folium.vector_layers.CircleMarker at 0x7f9df61eca58>,\n",
       " <folium.vector_layers.CircleMarker at 0x7f9df61ecb00>,\n",
       " <folium.vector_layers.CircleMarker at 0x7f9df61ecba8>,\n",
       " <folium.vector_layers.CircleMarker at 0x7f9df61c2e48>,\n",
       " <folium.vector_layers.CircleMarker at 0x7f9df61d6b00>,\n",
       " <folium.vector_layers.CircleMarker at 0x7f9df61d6c88>,\n",
       " <folium.vector_layers.CircleMarker at 0x7f9df61d6320>,\n",
       " <folium.vector_layers.CircleMarker at 0x7f9df61d6390>,\n",
       " <folium.vector_layers.CircleMarker at 0x7f9df61d6ba8>,\n",
       " <folium.vector_layers.CircleMarker at 0x7f9df61ecac8>,\n",
       " <folium.vector_layers.CircleMarker at 0x7f9df61ec978>,\n",
       " <folium.vector_layers.CircleMarker at 0x7f9df61ec2b0>,\n",
       " <folium.vector_layers.CircleMarker at 0x7f9df61ec7f0>,\n",
       " <folium.vector_layers.CircleMarker at 0x7f9df61ec3c8>,\n",
       " <folium.vector_layers.CircleMarker at 0x7f9df61ec400>,\n",
       " <folium.vector_layers.CircleMarker at 0x7f9df61ec630>,\n",
       " <folium.vector_layers.CircleMarker at 0x7f9df61ecc50>,\n",
       " <folium.vector_layers.CircleMarker at 0x7f9df61ecb38>,\n",
       " <folium.vector_layers.CircleMarker at 0x7f9df61ecd68>,\n",
       " <folium.vector_layers.CircleMarker at 0x7f9df61ecda0>,\n",
       " <folium.vector_layers.CircleMarker at 0x7f9df61ece48>,\n",
       " <folium.vector_layers.CircleMarker at 0x7f9df61ecef0>,\n",
       " <folium.vector_layers.CircleMarker at 0x7f9df61ecf98>,\n",
       " <folium.vector_layers.CircleMarker at 0x7f9df61ecf28>,\n",
       " <folium.vector_layers.CircleMarker at 0x7f9df6180080>,\n",
       " <folium.vector_layers.CircleMarker at 0x7f9df61ec9e8>,\n",
       " <folium.vector_layers.CircleMarker at 0x7f9df61ecbe0>,\n",
       " <folium.vector_layers.CircleMarker at 0x7f9df61ec4a8>,\n",
       " <folium.vector_layers.CircleMarker at 0x7f9df61ec358>,\n",
       " <folium.vector_layers.CircleMarker at 0x7f9df61eca90>,\n",
       " <folium.vector_layers.CircleMarker at 0x7f9df61ec0f0>,\n",
       " <folium.vector_layers.CircleMarker at 0x7f9df61ec748>,\n",
       " <folium.vector_layers.CircleMarker at 0x7f9df61ec940>,\n",
       " <folium.vector_layers.CircleMarker at 0x7f9df61eca20>,\n",
       " <folium.vector_layers.CircleMarker at 0x7f9df61ec8d0>,\n",
       " <folium.vector_layers.CircleMarker at 0x7f9df61d6fd0>,\n",
       " <folium.vector_layers.CircleMarker at 0x7f9df61c2cf8>,\n",
       " <folium.vector_layers.CircleMarker at 0x7f9df61d61d0>,\n",
       " <folium.vector_layers.CircleMarker at 0x7f9df61d67b8>,\n",
       " <folium.vector_layers.CircleMarker at 0x7f9df6180198>,\n",
       " <folium.vector_layers.CircleMarker at 0x7f9df61802e8>,\n",
       " <folium.vector_layers.CircleMarker at 0x7f9df6180320>,\n",
       " <folium.vector_layers.CircleMarker at 0x7f9df61803c8>,\n",
       " <folium.vector_layers.CircleMarker at 0x7f9df6180470>,\n",
       " <folium.vector_layers.CircleMarker at 0x7f9df6180518>,\n",
       " <folium.vector_layers.CircleMarker at 0x7f9df61805c0>,\n",
       " <folium.vector_layers.CircleMarker at 0x7f9df6180668>,\n",
       " <folium.vector_layers.CircleMarker at 0x7f9df61d6748>,\n",
       " <folium.vector_layers.CircleMarker at 0x7f9df61d64a8>,\n",
       " <folium.vector_layers.CircleMarker at 0x7f9df61ecb70>,\n",
       " <folium.vector_layers.CircleMarker at 0x7f9df61ec128>,\n",
       " <folium.vector_layers.CircleMarker at 0x7f9df61ec780>,\n",
       " <folium.vector_layers.CircleMarker at 0x7f9df61ec080>,\n",
       " <folium.vector_layers.CircleMarker at 0x7f9df61ece10>,\n",
       " <folium.vector_layers.CircleMarker at 0x7f9df61ece80>,\n",
       " <folium.vector_layers.CircleMarker at 0x7f9df61ecdd8>,\n",
       " <folium.vector_layers.CircleMarker at 0x7f9df6180358>,\n",
       " <folium.vector_layers.CircleMarker at 0x7f9df6180208>,\n",
       " <folium.vector_layers.CircleMarker at 0x7f9df6180240>,\n",
       " <folium.vector_layers.CircleMarker at 0x7f9df6180160>,\n",
       " <folium.vector_layers.CircleMarker at 0x7f9df6180710>,\n",
       " <folium.vector_layers.CircleMarker at 0x7f9df61805f8>,\n",
       " <folium.vector_layers.CircleMarker at 0x7f9df6180828>,\n",
       " <folium.vector_layers.CircleMarker at 0x7f9df6180860>,\n",
       " <folium.vector_layers.CircleMarker at 0x7f9df6180908>,\n",
       " <folium.vector_layers.CircleMarker at 0x7f9df61809b0>,\n",
       " <folium.vector_layers.CircleMarker at 0x7f9df6180a58>,\n",
       " <folium.vector_layers.CircleMarker at 0x7f9df6180b00>,\n",
       " <folium.vector_layers.CircleMarker at 0x7f9df6180ba8>,\n",
       " <folium.vector_layers.CircleMarker at 0x7f9df61ec898>,\n",
       " <folium.vector_layers.CircleMarker at 0x7f9df61ecd30>,\n",
       " <folium.vector_layers.CircleMarker at 0x7f9df61ec0b8>,\n",
       " <folium.vector_layers.CircleMarker at 0x7f9df61ecc18>,\n",
       " <folium.vector_layers.CircleMarker at 0x7f9df62176d8>,\n",
       " <folium.vector_layers.CircleMarker at 0x7f9df61ecc88>,\n",
       " <folium.vector_layers.CircleMarker at 0x7f9df61d67f0>,\n",
       " <folium.vector_layers.CircleMarker at 0x7f9df61d6668>,\n",
       " <folium.vector_layers.CircleMarker at 0x7f9df61c2d30>,\n",
       " <folium.vector_layers.CircleMarker at 0x7f9df61c2f98>,\n",
       " <folium.vector_layers.CircleMarker at 0x7f9df6180ac8>,\n",
       " <folium.vector_layers.CircleMarker at 0x7f9df6180978>,\n",
       " <folium.vector_layers.CircleMarker at 0x7f9df6180780>,\n",
       " <folium.vector_layers.CircleMarker at 0x7f9df61807f0>,\n",
       " <folium.vector_layers.CircleMarker at 0x7f9df6180390>,\n",
       " <folium.vector_layers.CircleMarker at 0x7f9df6180278>,\n",
       " <folium.vector_layers.CircleMarker at 0x7f9df6180438>,\n",
       " <folium.vector_layers.CircleMarker at 0x7f9df61804a8>,\n",
       " <folium.vector_layers.CircleMarker at 0x7f9df6180a90>,\n",
       " <folium.vector_layers.CircleMarker at 0x7f9df6180c88>,\n",
       " <folium.vector_layers.CircleMarker at 0x7f9df6180d30>,\n",
       " <folium.vector_layers.CircleMarker at 0x7f9df6180630>,\n",
       " <folium.vector_layers.CircleMarker at 0x7f9df638add8>,\n",
       " <folium.vector_layers.CircleMarker at 0x7f9e2e942668>,\n",
       " <folium.vector_layers.CircleMarker at 0x7f9e2ebdddd8>,\n",
       " <folium.vector_layers.CircleMarker at 0x7f9df62ad278>,\n",
       " <folium.vector_layers.CircleMarker at 0x7f9df6b76c50>,\n",
       " <folium.vector_layers.CircleMarker at 0x7f9e243904e0>,\n",
       " <folium.vector_layers.CircleMarker at 0x7f9e24390da0>,\n",
       " <folium.vector_layers.CircleMarker at 0x7f9df61c27f0>,\n",
       " <folium.vector_layers.CircleMarker at 0x7f9df61d62b0>,\n",
       " <folium.vector_layers.CircleMarker at 0x7f9df61d65c0>,\n",
       " <folium.vector_layers.CircleMarker at 0x7f9df6b76b00>,\n",
       " <folium.vector_layers.CircleMarker at 0x7f9df61b0f60>,\n",
       " <folium.vector_layers.CircleMarker at 0x7f9df639f518>,\n",
       " <folium.vector_layers.CircleMarker at 0x7f9df6259c18>,\n",
       " <folium.vector_layers.CircleMarker at 0x7f9df61ec4e0>,\n",
       " <folium.vector_layers.CircleMarker at 0x7f9df61ecfd0>,\n",
       " <folium.vector_layers.CircleMarker at 0x7f9df63ab470>,\n",
       " <folium.vector_layers.CircleMarker at 0x7f9df6259a90>,\n",
       " <folium.vector_layers.CircleMarker at 0x7f9df6217cf8>,\n",
       " <folium.vector_layers.CircleMarker at 0x7f9df61d6e10>,\n",
       " <folium.vector_layers.CircleMarker at 0x7f9df61c2668>,\n",
       " <folium.vector_layers.CircleMarker at 0x7f9e243904a8>,\n",
       " <folium.vector_layers.CircleMarker at 0x7f9df6b76668>,\n",
       " <folium.vector_layers.CircleMarker at 0x7f9df6b767b8>,\n",
       " <folium.vector_layers.CircleMarker at 0x7f9df6372eb8>,\n",
       " <folium.vector_layers.CircleMarker at 0x7f9df61eccc0>,\n",
       " <folium.vector_layers.CircleMarker at 0x7f9df62ad898>,\n",
       " <folium.vector_layers.CircleMarker at 0x7f9df62ad160>,\n",
       " <folium.vector_layers.CircleMarker at 0x7f9df63ab1d0>,\n",
       " <folium.vector_layers.CircleMarker at 0x7f9df63abda0>,\n",
       " <folium.vector_layers.CircleMarker at 0x7f9df63ab6d8>,\n",
       " <folium.vector_layers.CircleMarker at 0x7f9df63ab6a0>,\n",
       " <folium.vector_layers.CircleMarker at 0x7f9e241a09e8>,\n",
       " <folium.vector_layers.CircleMarker at 0x7f9e241a0860>,\n",
       " <folium.vector_layers.CircleMarker at 0x7f9e241a0a90>,\n",
       " <folium.vector_layers.CircleMarker at 0x7f9e243e4da0>,\n",
       " <folium.vector_layers.CircleMarker at 0x7f9e243e4c88>,\n",
       " <folium.vector_layers.CircleMarker at 0x7f9e243e47b8>,\n",
       " <folium.vector_layers.CircleMarker at 0x7f9e241a0c18>,\n",
       " <folium.vector_layers.CircleMarker at 0x7f9e241a0ac8>,\n",
       " <folium.vector_layers.CircleMarker at 0x7f9e2b109ef0>,\n",
       " <folium.vector_layers.CircleMarker at 0x7f9df6b76ef0>,\n",
       " <folium.vector_layers.CircleMarker at 0x7f9df61c25c0>,\n",
       " <folium.vector_layers.CircleMarker at 0x7f9df63ab780>,\n",
       " <folium.vector_layers.CircleMarker at 0x7f9df62ad320>,\n",
       " <folium.vector_layers.CircleMarker at 0x7f9df61b0b70>,\n",
       " <folium.vector_layers.CircleMarker at 0x7f9df63ab198>,\n",
       " <folium.vector_layers.CircleMarker at 0x7f9df61ec6a0>,\n",
       " <folium.vector_layers.CircleMarker at 0x7f9df61eccf8>,\n",
       " <folium.vector_layers.CircleMarker at 0x7f9e243e4320>,\n",
       " <folium.vector_layers.CircleMarker at 0x7f9e243e40f0>,\n",
       " <folium.vector_layers.CircleMarker at 0x7f9e243e4550>,\n",
       " <folium.vector_layers.CircleMarker at 0x7f9df61806d8>,\n",
       " <folium.vector_layers.CircleMarker at 0x7f9df6180588>,\n",
       " <folium.vector_layers.CircleMarker at 0x7f9df6180400>,\n",
       " <folium.vector_layers.CircleMarker at 0x7f9df6180128>,\n",
       " <folium.vector_layers.CircleMarker at 0x7f9df6180748>,\n",
       " <folium.vector_layers.CircleMarker at 0x7f9df6180940>,\n",
       " <folium.vector_layers.CircleMarker at 0x7f9df6180a20>,\n",
       " <folium.vector_layers.CircleMarker at 0x7f9df62ad080>,\n",
       " <folium.vector_layers.CircleMarker at 0x7f9e24390a58>,\n",
       " <folium.vector_layers.CircleMarker at 0x7f9e27e51940>,\n",
       " <folium.vector_layers.CircleMarker at 0x7f9df61ecf60>,\n",
       " <folium.vector_layers.CircleMarker at 0x7f9df63ab128>,\n",
       " <folium.vector_layers.CircleMarker at 0x7f9e241a0a58>,\n",
       " <folium.vector_layers.CircleMarker at 0x7f9df63ab5c0>,\n",
       " <folium.vector_layers.CircleMarker at 0x7f9df63ab9b0>,\n",
       " <folium.vector_layers.CircleMarker at 0x7f9e243e4e10>,\n",
       " <folium.vector_layers.CircleMarker at 0x7f9e243e46d8>,\n",
       " <folium.vector_layers.CircleMarker at 0x7f9df6180048>]"
      ]
     },
     "execution_count": 74,
     "metadata": {},
     "output_type": "execute_result"
    }
   ],
   "source": [
    "map_with_markers"
   ]
  },
  {
   "cell_type": "markdown",
   "metadata": {},
   "source": [
    "### Using Nearest Neighbors"
   ]
  },
  {
   "cell_type": "markdown",
   "metadata": {},
   "source": [
    "Ok, let's write a function that given a latitude and longitude will predict the distance for us.  We'll do this by first finding the nearest trips given a latitude and longitude. "
   ]
  },
  {
   "cell_type": "markdown",
   "metadata": {},
   "source": [
    "Here we once again apply the nearest neighbors formula. As a first step, write a function named `distance_location` that calculates the distance in pickup location between two trips."
   ]
  },
  {
   "cell_type": "code",
   "execution_count": null,
   "metadata": {},
   "outputs": [],
   "source": [
    "import math\n",
    "\n",
    "def distance_location(selected_trip, neighbor_trip):\n",
    "    pass"
   ]
  },
  {
   "cell_type": "code",
   "execution_count": null,
   "metadata": {},
   "outputs": [],
   "source": [
    "first_trip = {'pickup_latitude': 40.64499, 'pickup_longitude': -73.78115, 'trip_distance': 18.38}\n",
    "second_trip = {'pickup_latitude': 40.766931, 'pickup_longitude': -73.982098, 'trip_distance': 1.3}\n",
    "distance_first_and_second = distance_location(first_trip, second_trip)\n",
    "\n",
    "distance_first_and_second and round(distance_first_and_second, 3) # 0.235"
   ]
  },
  {
   "cell_type": "markdown",
   "metadata": {},
   "source": [
    "Ok, next write a function called `distance_between_neighbors` that adds a new key-value pair, called `distance_from_selected`, that calculates the distance of the `neighbor_trip` from the `selected_trip`."
   ]
  },
  {
   "cell_type": "code",
   "execution_count": null,
   "metadata": {},
   "outputs": [],
   "source": [
    "def distance_between_neighbors(selected_trip, neighbor_trip):\n",
    "    pass"
   ]
  },
  {
   "cell_type": "code",
   "execution_count": null,
   "metadata": {},
   "outputs": [],
   "source": [
    "distance_between_neighbors(first_trip, second_trip)\n",
    "\n",
    "# {'distance_from_selected': 0.23505256047318146,\n",
    "#  'pickup_latitude': 40.766931,\n",
    "#  'pickup_longitude': -73.982098,\n",
    "#  'trip_distance': 1.3}"
   ]
  },
  {
   "cell_type": "markdown",
   "metadata": {},
   "source": [
    "Ok, now our `neighbor_trip` has another attribute called `distance_from_selected`, that indicates the distance from the `neighbor_trip`'s pickup location from the `selected_trip`."
   ]
  },
  {
   "cell_type": "markdown",
   "metadata": {},
   "source": [
    "> ** Understand the data:** Our dictionary now has a few attributes, two of which say distance.  Let's make sure we understand the difference. \n",
    "> * **`distance_from_selected`:** This is our calculation of the distance of the neighbor's pickup location from the selected trip.\n",
    "> * **`trip_distance`:** This is the attribute we were provided initially.  It tells us the length of the neighbor's taxi trip from pickup to drop-off.  "
   ]
  },
  {
   "cell_type": "markdown",
   "metadata": {},
   "source": [
    "Next, write a function called `distance_all` that provided a list of neighbors, returns each of those neighbors with their respective `distance_from_selected` numbers."
   ]
  },
  {
   "cell_type": "code",
   "execution_count": null,
   "metadata": {},
   "outputs": [],
   "source": [
    "def distance_all(selected_individual, neighbors):\n",
    "    pass"
   ]
  },
  {
   "cell_type": "code",
   "execution_count": null,
   "metadata": {},
   "outputs": [],
   "source": [
    "cleaned_trips and distance_all(first_trip, cleaned_trips[0:4])"
   ]
  },
  {
   "cell_type": "markdown",
   "metadata": {},
   "source": [
    "Now write the nearest neighbors formula to calculate the distance of the `selected_trip` from all of the `cleaned_trips` in our dataset.  If no number is provided, it should return the top 3 neighbors."
   ]
  },
  {
   "cell_type": "code",
   "execution_count": null,
   "metadata": {},
   "outputs": [],
   "source": [
    "def nearest_neighbors(selected_trip, trips, number = 3):\n",
    "    pass"
   ]
  },
  {
   "cell_type": "code",
   "execution_count": null,
   "metadata": {},
   "outputs": [],
   "source": [
    "new_trip = {'pickup_latitude': 40.64499,\n",
    "'pickup_longitude': -73.78115,\n",
    "'trip_distance': 18.38}\n",
    "\n",
    "nearest_three_neighbors = nearest_neighbors(new_trip, cleaned_trips or [], number = 3)\n",
    "nearest_three_neighbors\n",
    "# [{'distance_from_selected': 0.0004569288784918792,\n",
    "#   'pickup_latitude': 40.64483,\n",
    "#   'pickup_longitude': -73.781578,\n",
    "#   'trip_distance': 7.78},\n",
    "#  {'distance_from_selected': 0.0011292165425673159,\n",
    "#   'pickup_latitude': 40.644657,\n",
    "#   'pickup_longitude': -73.782229,\n",
    "#   'trip_distance': 12.7},\n",
    "#  {'distance_from_selected': 0.0042359798158141185,\n",
    "#   'pickup_latitude': 40.648509,\n",
    "#   'pickup_longitude': -73.783508,\n",
    "#   'trip_distance': 17.3}]"
   ]
  },
  {
   "cell_type": "markdown",
   "metadata": {},
   "source": [
    "Ok great! Now that we can provide a new trip location, and find the distances of the three nearest trips, we can take  calculate an estimate of the trip distance for that new trip location.  \n",
    "\n",
    "We do so simply by calculating the average of it's nearest neighbors."
   ]
  },
  {
   "cell_type": "code",
   "execution_count": null,
   "metadata": {},
   "outputs": [],
   "source": [
    "import statistics\n",
    "def mean_distance(neighbors):\n",
    "    nearest_distances = list(map(lambda neighbor: neighbor['trip_distance'], neighbors))\n",
    "    return round(statistics.mean(nearest_distances), 3)\n",
    "\n",
    "nearest_three_neighbors = nearest_neighbors(new_trip, cleaned_trips or [], number = 3)\n",
    "distance_estimate_of_selected_trip = mean_distance(nearest_three_neighbors) # 12.593\n",
    "distance_estimate_of_selected_trip"
   ]
  },
  {
   "cell_type": "markdown",
   "metadata": {},
   "source": [
    "### Choosing the correct number of neighbors"
   ]
  },
  {
   "cell_type": "markdown",
   "metadata": {},
   "source": [
    "Now, as we know from the last lesson, one tricky element is to determine how many neighbors to choose, our $k$ value,  before calculating the average.  We want to choose our value of $k$ such that it properly matches actual data, and so that it applies to new data.  There are fancy formulas to ensure that we **train** our algorithm so that our formula is optimized for all data, but here let's see different $k$ values manually.  This is the gist of choosing our $k$ value:\n",
    "\n",
    "* If we choose a $k$ value too low, our formula will be too heavily influenced by a single neighbor, whereas if our $k$ value is too high, we will be choosing so many neighbors that our nearest neighbors formula will not be adjust enough according to locations.\n",
    "\n",
    "Ok, let's experiment with this."
   ]
  },
  {
   "cell_type": "markdown",
   "metadata": {},
   "source": [
    "First, let's choose a midtown location, to see what the trip distance would be.  A Google search reveals the coordinates of 51st and 7th avenue to be the following."
   ]
  },
  {
   "cell_type": "code",
   "execution_count": null,
   "metadata": {},
   "outputs": [],
   "source": [
    "midtown_trip = dict(pickup_latitude=40.761710, pickup_longitude=-73.982760)"
   ]
  },
  {
   "cell_type": "code",
   "execution_count": null,
   "metadata": {},
   "outputs": [],
   "source": [
    "seven_closest = nearest_neighbors(midtown_trip, cleaned_trips, number = 7)\n",
    "seven_closest\n",
    "# [{'trip_distance': 0.58,\n",
    "#   'pickup_latitude': 40.761372,\n",
    "#   'pickup_longitude': -73.982602,\n",
    "#   'distance_from_selected': 0.00037310588309379025},\n",
    "#  {'trip_distance': 0.8,\n",
    "#   'pickup_latitude': 40.762444,\n",
    "#   'pickup_longitude': -73.98244,\n",
    "#   'distance_from_selected': 0.00080072217404248},\n",
    "#  {'trip_distance': 1.4,\n",
    "#   'pickup_latitude': 40.762767,\n",
    "#   'pickup_longitude': -73.982293,\n",
    "#   'distance_from_selected': 0.0011555682584735844},\n",
    "#  {'trip_distance': 8.3,\n",
    "#   'pickup_latitude': 40.762868,\n",
    "#   'pickup_longitude': -73.983233,\n",
    "#   'distance_from_selected': 0.0012508768924205918},\n",
    "#  {'trip_distance': 1.26,\n",
    "#   'pickup_latitude': 40.760057,\n",
    "#   'pickup_longitude': -73.983502,\n",
    "#   'distance_from_selected': 0.0018118976240381972},\n",
    "#  {'trip_distance': 0.0,\n",
    "#   'pickup_latitude': 40.760644,\n",
    "#   'pickup_longitude': -73.984531,\n",
    "#   'distance_from_selected': 0.002067074502774709},\n",
    "#  {'trip_distance': 1.72,\n",
    "#   'pickup_latitude': 40.762107,\n",
    "#   'pickup_longitude': -73.98479,\n",
    "#   'distance_from_selected': 0.0020684557041472677}]"
   ]
  },
  {
   "cell_type": "markdown",
   "metadata": {},
   "source": [
    "Looking at the `distance_from_selected` it appears that our our trips are still fairly close to our selected trip.  Notice that most of the data is within a distance of .002 away, so going to the top 7 nearest neighbors didn't seem to give us neighbors too far from each other, which is a good sign.\n",
    "\n",
    "Still, it's hard to know what distance in latitude and longitude really look like, so let's map the data. "
   ]
  },
  {
   "cell_type": "code",
   "execution_count": null,
   "metadata": {},
   "outputs": [],
   "source": [
    "midtown_location = location(midtown_trip) # [40.76171, -73.98276]\n",
    "midtown_map = map_from(midtown_location, 16)\n",
    "closest_markers = markers_from_trips(seven_closest)\n",
    "\n",
    "add_markers(closest_markers, midtown_map)"
   ]
  },
  {
   "cell_type": "markdown",
   "metadata": {},
   "source": [
    "Ok.  These locations stay fairly close to our estimated location of 51st street and 7th Avenue.  So they could be a good estimate of a trip distance."
   ]
  },
  {
   "cell_type": "code",
   "execution_count": null,
   "metadata": {},
   "outputs": [],
   "source": [
    "mean_distance(seven_closest) # 2.009"
   ]
  },
  {
   "cell_type": "markdown",
   "metadata": {},
   "source": [
    "Ok, now let's try a different location"
   ]
  },
  {
   "cell_type": "code",
   "execution_count": null,
   "metadata": {},
   "outputs": [],
   "source": [
    "charging_bull_closest = nearest_neighbors({'pickup_latitude': 40.7049, 'pickup_longitude': -74.0137}, cleaned_trips, number = 12)"
   ]
  },
  {
   "cell_type": "code",
   "execution_count": null,
   "metadata": {
    "scrolled": true
   },
   "outputs": [],
   "source": [
    "mean_distance(charging_bull_closest) # 3.145"
   ]
  },
  {
   "cell_type": "markdown",
   "metadata": {},
   "source": [
    "Ok, so there appears to be a significant difference between choosing a location near Times Square versus choosing a location at Wall Street."
   ]
  },
  {
   "cell_type": "markdown",
   "metadata": {},
   "source": [
    "### Summary"
   ]
  },
  {
   "cell_type": "markdown",
   "metadata": {},
   "source": [
    "In this lab, we used the nearest neighbors function to predict the length of a taxi ride.  To do so, we selected a location, then found a number of taxi rides closest to that location, and finally took the average trip lengths of the nearest taxi rides to find an estimate of the new ride's trip length.  You can see that even with just a little bit of math and programming we can begin to make meaningful predictions with data."
   ]
  }
 ],
 "metadata": {
  "kernelspec": {
   "display_name": "Python 3",
   "language": "python",
   "name": "python3"
  },
  "language_info": {
   "codemirror_mode": {
    "name": "ipython",
    "version": 3
   },
   "file_extension": ".py",
   "mimetype": "text/x-python",
   "name": "python",
   "nbconvert_exporter": "python",
   "pygments_lexer": "ipython3",
   "version": "3.6.6"
  }
 },
 "nbformat": 4,
 "nbformat_minor": 2
}
